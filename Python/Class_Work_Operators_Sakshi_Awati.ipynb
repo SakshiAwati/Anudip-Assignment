{
  "nbformat": 4,
  "nbformat_minor": 0,
  "metadata": {
    "colab": {
      "provenance": []
    },
    "kernelspec": {
      "name": "python3",
      "display_name": "Python 3"
    },
    "language_info": {
      "name": "python"
    }
  },
  "cells": [
    {
      "cell_type": "markdown",
      "source": [
        "###1. Take two numbers as input from the user and display their difference.\n"
      ],
      "metadata": {
        "id": "9KXV6DEovwjt"
      }
    },
    {
      "cell_type": "code",
      "execution_count": null,
      "metadata": {
        "colab": {
          "base_uri": "https://localhost:8080/"
        },
        "id": "TDteYNskvc1b",
        "outputId": "3b5ec9d8-c9db-4070-f359-f36b6e26f3b4"
      },
      "outputs": [
        {
          "output_type": "stream",
          "name": "stdout",
          "text": [
            "Enter first Number = 25\n",
            "Enter second Number = 38\n",
            "Difference of 25 and 38  is =  -13\n"
          ]
        }
      ],
      "source": [
        "Num1=int(input(\"Enter first Number = \"))\n",
        "Num2=int(input(\"Enter second Number = \"))\n",
        "Diff3=Num1-Num2\n",
        "print(\"Difference of\",Num1,\"and\",Num2,\" is = \",Diff)"
      ]
    },
    {
      "cell_type": "markdown",
      "source": [
        "###2. Write a Python program to calculate the perimeter of a rectangle using the formula: perimeter = 2 * (length + width)."
      ],
      "metadata": {
        "id": "wIGTGXRbx6YP"
      }
    },
    {
      "cell_type": "code",
      "source": [
        "Length=int(input(\"Enter length of rectangle= \"))\n",
        "Width=int(input(\"Enter width of rectangle= \"))\n",
        "perimeter = 2*(Length+Width)\n",
        "print(\"Perimeter of Rectangle is = \",perimeter)"
      ],
      "metadata": {
        "colab": {
          "base_uri": "https://localhost:8080/"
        },
        "id": "ztjCDjjox_8z",
        "outputId": "e0bbb796-3959-4834-e2dd-26ecd189a6e4"
      },
      "execution_count": null,
      "outputs": [
        {
          "output_type": "stream",
          "name": "stdout",
          "text": [
            "Enter length of rectangle= 55\n",
            "Enter width of rectangle= 62\n",
            "Perimeter of Rectangle is =  234\n"
          ]
        }
      ]
    },
    {
      "cell_type": "markdown",
      "source": [
        "###3. Take a number as input from the user and display 10 times that number.\n"
      ],
      "metadata": {
        "id": "UXaEb0I3zT7o"
      }
    },
    {
      "cell_type": "code",
      "source": [
        "Number=int(input(\"Enter a Number= \"))\n",
        "Expo=Number*10\n",
        "print(\"The ten times the\", Number, \"is\",Expo)"
      ],
      "metadata": {
        "colab": {
          "base_uri": "https://localhost:8080/"
        },
        "id": "_iZ0nfp5zZQb",
        "outputId": "4183b721-8d48-4c67-a0d7-62b6e4fdc382"
      },
      "execution_count": null,
      "outputs": [
        {
          "output_type": "stream",
          "name": "stdout",
          "text": [
            "Enter a Number= 55\n",
            "The ten times the 55 is 550\n"
          ]
        }
      ]
    },
    {
      "cell_type": "markdown",
      "source": [
        "###4. Write a Python program to calculate the average of four numbers entered by the user."
      ],
      "metadata": {
        "id": "xFJzR1P10qNw"
      }
    },
    {
      "cell_type": "code",
      "source": [
        "Num1=int(input(\"Enter 1st number= \"))\n",
        "Num2=int(input(\"Enter 2nd number= \"))\n",
        "Num3=int(input(\"Enter 3rd number= \"))\n",
        "Num4=int(input(\"Enter 4th number= \"))\n",
        "Average=(Num1+Num2+Num3+Num4)/4\n",
        "print(\"The Average of\",Num1,Num2,Num3,Num4,\"is\",Average)"
      ],
      "metadata": {
        "colab": {
          "base_uri": "https://localhost:8080/"
        },
        "id": "0YeyFO860uzk",
        "outputId": "a6721523-11bc-49e8-8485-bb2b8301c161"
      },
      "execution_count": null,
      "outputs": [
        {
          "output_type": "stream",
          "name": "stdout",
          "text": [
            "Enter 1st number= 23\n",
            "Enter 2nd number= 43\n",
            "Enter 3rd number= 67\n",
            "Enter 4th number= 87\n",
            "The Average of 23 43 67 87 is 55.0\n"
          ]
        }
      ]
    },
    {
      "cell_type": "markdown",
      "source": [
        "###5. Write a Python program to swap two numbers using a temporary variable.\n"
      ],
      "metadata": {
        "id": "SCGXGqBX2DfH"
      }
    },
    {
      "cell_type": "code",
      "source": [
        "Num1= int(input(\"Enter 1st Number= \"))\n",
        "Num2= int(input(\"Enter 2nd Number= \"))\n",
        "print(f\"Before Swapping of Numbers,Num1 ={Num1}, Num2 ={Num2}\")\n",
        "temp=Num1\n",
        "Num1 = Num2\n",
        "Num2=temp\n",
        "print(f\"After Swapping of Numbers,Num1 ={Num1}, Num2 ={Num2}\")"
      ],
      "metadata": {
        "colab": {
          "base_uri": "https://localhost:8080/"
        },
        "id": "_6bb88YQ2IHi",
        "outputId": "a9d07d98-69bb-46d6-fa3d-05eec9d03d3d"
      },
      "execution_count": null,
      "outputs": [
        {
          "output_type": "stream",
          "name": "stdout",
          "text": [
            "Enter 1st Number= 67\n",
            "Enter 2nd Number= 88\n",
            "Before Swapping of Numbers,Num1 =67, Num2 =88\n",
            "After Swapping of Numbers,Num1 =88, Num2 =67\n"
          ]
        }
      ]
    },
    {
      "cell_type": "markdown",
      "source": [
        "###6. Take three numbers as input from the user and display their sum and product.\n"
      ],
      "metadata": {
        "id": "8zr736ZX5II_"
      }
    },
    {
      "cell_type": "code",
      "source": [
        "Num1=int(input(\"Enter 1st number= \"))\n",
        "Num2=int(input(\"Enter 2nd number= \"))\n",
        "Num3=int(input(\"Enter 3rd number= \"))\n",
        "Sum=Num1+Num2+Num3\n",
        "Product=Num1*Num2*Num3\n",
        "print(\"Sum of the number\",\"is\",Sum,\"Product of the number\",\"is\",Product)"
      ],
      "metadata": {
        "colab": {
          "base_uri": "https://localhost:8080/"
        },
        "id": "ujcEEIRB5Ow-",
        "outputId": "4c351afd-48bf-47ea-e620-777bf9f4f229"
      },
      "execution_count": null,
      "outputs": [
        {
          "output_type": "stream",
          "name": "stdout",
          "text": [
            "Enter 1st number= 66\n",
            "Enter 2nd number= 58\n",
            "Enter 3rd number= 86\n",
            "Sum of the number is 210 Product of the number is 329208\n"
          ]
        }
      ]
    },
    {
      "cell_type": "markdown",
      "source": [
        "###7. Write a Python program to take two numbers as input and display the result of their multiplication.\n"
      ],
      "metadata": {
        "id": "LBldwaTm6hWI"
      }
    },
    {
      "cell_type": "code",
      "source": [
        "Num1=int(input(\"first number= \"))\n",
        "Num2=int(input(\"second number= \"))\n",
        "Result=Num1*Num2\n",
        "print(\"Multiplication of two numbers\",\"is\",Result)"
      ],
      "metadata": {
        "colab": {
          "base_uri": "https://localhost:8080/"
        },
        "id": "Ym17fJTY6lYS",
        "outputId": "e22f71aa-da37-4a4d-a7be-6ceb2ce7abb3"
      },
      "execution_count": null,
      "outputs": [
        {
          "output_type": "stream",
          "name": "stdout",
          "text": [
            "first number= 76\n",
            "second number= 88\n",
            "Multiplication of two numbers is 6688\n"
          ]
        }
      ]
    },
    {
      "cell_type": "markdown",
      "source": [
        "###8. Take two numbers as input and display the result of their subtraction.\n"
      ],
      "metadata": {
        "id": "Ad2gVIm47gJY"
      }
    },
    {
      "cell_type": "code",
      "source": [
        "Num1=int(input(\"first number= \"))\n",
        "Num2=int(input(\"second number= \"))\n",
        "Result=Num1-Num2\n",
        "print(\"Subtraction of two numbers\",\"is\",Result)\n"
      ],
      "metadata": {
        "colab": {
          "base_uri": "https://localhost:8080/"
        },
        "id": "4Fu2TAqE7mkk",
        "outputId": "3c30fc00-2b5e-4bc4-981e-5ce699a0a651"
      },
      "execution_count": null,
      "outputs": [
        {
          "output_type": "stream",
          "name": "stdout",
          "text": [
            "first number= 56\n",
            "second number= 77\n",
            "Subtraction of two numbers is -21\n"
          ]
        }
      ]
    },
    {
      "cell_type": "markdown",
      "source": [
        "###9. Write a Python program to find the result of dividing two numbers and display the quotient only.\n"
      ],
      "metadata": {
        "id": "aICTNROt8ngH"
      }
    },
    {
      "cell_type": "code",
      "source": [
        "Num1=int(input(\"first number= \"))\n",
        "Num2=int(input(\"second number= \"))\n",
        "Quotient=Num1/Num2\n",
        "print(\"Result of Quotient\",\"is\",Quotient)\n"
      ],
      "metadata": {
        "colab": {
          "base_uri": "https://localhost:8080/"
        },
        "id": "2NLXxf1H8thS",
        "outputId": "1e5ca79b-bd0d-4f90-a199-0d9cf4ec39a1"
      },
      "execution_count": null,
      "outputs": [
        {
          "output_type": "stream",
          "name": "stdout",
          "text": [
            "first number= 25\n",
            "second number= 5\n",
            "Result of Quotient is 5.0\n"
          ]
        }
      ]
    },
    {
      "cell_type": "markdown",
      "source": [
        "###10. Take two numbers as input and display the result of their modulus operation (remainder).\n"
      ],
      "metadata": {
        "id": "4A5wQGoF9wdv"
      }
    },
    {
      "cell_type": "code",
      "source": [
        "Num1=int(input(\"first number= \"))\n",
        "Num2=int(input(\"second number= \"))\n",
        "Modulus=Num1%Num2\n",
        "print(\"Result of Remainder\",\"is\",Modulus)"
      ],
      "metadata": {
        "colab": {
          "base_uri": "https://localhost:8080/"
        },
        "id": "fX0hNKg390ZA",
        "outputId": "4aaf6833-1c2d-4cde-e8c5-a371b3a8420d"
      },
      "execution_count": null,
      "outputs": [
        {
          "output_type": "stream",
          "name": "stdout",
          "text": [
            "first number= 45\n",
            "second number= 34\n",
            "Result of Remainder is 11\n"
          ]
        }
      ]
    },
    {
      "cell_type": "markdown",
      "source": [
        "###11. Write a Python program to calculate the simple interest using the formula: SI = (P * R * T) / 100.\n"
      ],
      "metadata": {
        "id": "kwNoN1oCO6bK"
      }
    },
    {
      "cell_type": "code",
      "source": [
        "Principle=float(input(\"Enter the principle amount= \"))\n",
        "Rate=int(input(\"Enter rate of interest= \"))\n",
        "Time=int(input(\"Enter the time=\"))\n",
        "SimpleInterest=(Principle*Rate*Time)/100\n",
        "print(\"Simple Interest\",\"is\",SimpleInterest)"
      ],
      "metadata": {
        "colab": {
          "base_uri": "https://localhost:8080/"
        },
        "id": "yUZWVYZqPCZM",
        "outputId": "ec89f16a-4cd8-4921-ab5a-b6ee3500a09c"
      },
      "execution_count": null,
      "outputs": [
        {
          "output_type": "stream",
          "name": "stdout",
          "text": [
            "Enter the principle amount= 34.5\n",
            "Enter rate of interest= 12\n",
            "Enter the time=8\n",
            "Simple Interest is 33.12\n"
          ]
        }
      ]
    },
    {
      "cell_type": "markdown",
      "source": [
        "###12. Take the radius as input and calculate the circumference of a circle using the formula: C = 2 * π * r (use 3.14159 for π).\n"
      ],
      "metadata": {
        "id": "x5BFfvgiUjrs"
      }
    },
    {
      "cell_type": "code",
      "source": [
        "Radius=float(input(\"Enter radius of circle= \"))\n",
        "C=2*3.14159*Radius\n",
        "print(\"Circumference of circle\",\"is\",C)"
      ],
      "metadata": {
        "colab": {
          "base_uri": "https://localhost:8080/"
        },
        "id": "ws2GbiIWUpDa",
        "outputId": "02d2fe7b-00e9-452a-c3ee-d6b65fa5fddf"
      },
      "execution_count": null,
      "outputs": [
        {
          "output_type": "stream",
          "name": "stdout",
          "text": [
            "Enter radius of circle= 8.5\n",
            "Circumference of circle is 53.40703\n"
          ]
        }
      ]
    },
    {
      "cell_type": "markdown",
      "source": [
        "###13. Write a Python program to calculate the area of a square using the formula: area = side * side.\n"
      ],
      "metadata": {
        "id": "Jm1AN9LWVedt"
      }
    },
    {
      "cell_type": "code",
      "source": [
        "Side1=float(input(\"Enter first side of square= \"))\n",
        "Side2=float(input(\"Enter second side of square= \"))\n",
        "area=Side1*Side2\n",
        "print(\"Area of square\",\"is\",area)\n"
      ],
      "metadata": {
        "colab": {
          "base_uri": "https://localhost:8080/"
        },
        "id": "7JxMnMrnVo0-",
        "outputId": "453e7fe7-3caa-4938-a5f9-ed239089e6a7"
      },
      "execution_count": null,
      "outputs": [
        {
          "output_type": "stream",
          "name": "stdout",
          "text": [
            "Enter first side of square= 65\n",
            "Enter second side of square= 45\n",
            "Area of square is 2925.0\n"
          ]
        }
      ]
    },
    {
      "cell_type": "markdown",
      "source": [
        "###14. Take two numbers as input and display their exponential result using the power operator ().\n"
      ],
      "metadata": {
        "id": "2ygljk07XD6S"
      }
    },
    {
      "cell_type": "code",
      "source": [
        "Num1=int(input(\"first number= \"))\n",
        "Num2=int(input(\"second number= \"))\n",
        "Expo=Num1**Num2\n",
        "print(\"Exponential result\",\"is\",Expo)\n"
      ],
      "metadata": {
        "colab": {
          "base_uri": "https://localhost:8080/"
        },
        "id": "8u3FaU8oXWlf",
        "outputId": "46f535fa-96be-47f9-f90e-28234a4366f2"
      },
      "execution_count": null,
      "outputs": [
        {
          "output_type": "stream",
          "name": "stdout",
          "text": [
            "first number= 4\n",
            "second number= 8\n",
            "Exponential result is 65536\n"
          ]
        }
      ]
    },
    {
      "cell_type": "markdown",
      "source": [
        "###15. Write a Python program to calculate the area of a circle using the formula: area = π * r^2.\n"
      ],
      "metadata": {
        "id": "jYsKODTbX-By"
      }
    },
    {
      "cell_type": "code",
      "source": [
        "Radius=float(input(\"Enter radius of circle= \"))\n",
        "area=3.14159*Radius**2\n",
        "print(\"Area of circle\",\"is\",area)"
      ],
      "metadata": {
        "colab": {
          "base_uri": "https://localhost:8080/"
        },
        "id": "eyPmSaFBYB58",
        "outputId": "4dfa8790-a74e-47d6-d0bd-45ae628cdb32"
      },
      "execution_count": null,
      "outputs": [
        {
          "output_type": "stream",
          "name": "stdout",
          "text": [
            "Enter radius of circle= 45\n",
            "Area of circle is 6361.71975\n"
          ]
        }
      ]
    },
    {
      "cell_type": "markdown",
      "source": [
        "###16. Take the base and exponent as input and display the result of base raised to the exponent.\n"
      ],
      "metadata": {
        "id": "pagGFiw6Yztm"
      }
    },
    {
      "cell_type": "code",
      "source": [
        "Base=float(input(\"Enter the base= \"))\n",
        "Exponent=float(input(\"Enter the exponent= \"))\n",
        "Result=Base**Exponent\n",
        "print(\"Result of base raised to exponent\",\"is\",Result)"
      ],
      "metadata": {
        "colab": {
          "base_uri": "https://localhost:8080/"
        },
        "id": "oHXSFE9CY3XZ",
        "outputId": "42dbb666-63c9-4d02-c8a3-6031356aacdf"
      },
      "execution_count": null,
      "outputs": [
        {
          "output_type": "stream",
          "name": "stdout",
          "text": [
            "Enter the base= 4\n",
            "Enter the exponent= 9\n",
            "Result of base raised to exponent is 262144.0\n"
          ]
        }
      ]
    },
    {
      "cell_type": "markdown",
      "source": [
        "###17. Write a Python program to convert an amount in kilometers to meters (1 km = 1000 meters).\n"
      ],
      "metadata": {
        "id": "ik1gk8TwZsuT"
      }
    },
    {
      "cell_type": "code",
      "source": [
        "Km=float(input(\"Enter the amount in kilometers= \"))\n",
        "Meters=Km*1000\n",
        "print(\"Amount\",\"is\",Meters)"
      ],
      "metadata": {
        "colab": {
          "base_uri": "https://localhost:8080/"
        },
        "id": "7XNVtvC3Zw9a",
        "outputId": "6ae286ee-fa56-46f1-b434-141cb1d39b31"
      },
      "execution_count": null,
      "outputs": [
        {
          "output_type": "stream",
          "name": "stdout",
          "text": [
            "Enter the amount in kilometers= 4\n",
            "Amount is 4000.0\n"
          ]
        }
      ]
    },
    {
      "cell_type": "markdown",
      "source": [
        "###18. Take a number as input and display whether it is an even or odd number using modulus (%).\n"
      ],
      "metadata": {
        "id": "IhnYzv819n2G"
      }
    },
    {
      "cell_type": "code",
      "source": [
        "Num=int(input(\"Enter a number= \"))\n",
        "if Num % 2==0:\n",
        " print(\"Num is Even\")\n",
        "else:\n",
        " print(\"Num is Odd\")\n",
        "\n"
      ],
      "metadata": {
        "colab": {
          "base_uri": "https://localhost:8080/"
        },
        "id": "1bP7rwkO9woq",
        "outputId": "d114a2e6-219e-4f77-df50-8933df056441"
      },
      "execution_count": null,
      "outputs": [
        {
          "output_type": "stream",
          "name": "stdout",
          "text": [
            "Enter a number= 4\n",
            "Num is Even\n"
          ]
        }
      ]
    },
    {
      "cell_type": "markdown",
      "source": [
        "###19. Write a Python program to calculate the total price of items where the price per item and number of items are provided by the user.\n"
      ],
      "metadata": {
        "id": "G9ckK-3g_HiR"
      }
    },
    {
      "cell_type": "code",
      "source": [
        "Tshirts=int(input(\"Enter the price of Tshirts= \"))\n",
        "Quantity=int(input(\"Enter the quantity of Tshirts= \"))\n",
        "Trousers=int(input(\"Enter the price of Trousers= \"))\n",
        "Quantity=int(input(\"Enter the quantity of Trousers= \"))\n",
        "Totalprice1=(Tshirts*Quantity)\n",
        "Totalprice2=(Trousers*Quantity)\n",
        "print(\"Total Price of\",Tshirts,\"is\",Totalprice1)\n",
        "print(\"Total Price of\",Trousers,\"is\",Totalprice2)\n"
      ],
      "metadata": {
        "id": "0JMO-Z_q_M_a",
        "colab": {
          "base_uri": "https://localhost:8080/"
        },
        "outputId": "cb061831-5568-41f1-c7d5-30e6f24d4c58"
      },
      "execution_count": null,
      "outputs": [
        {
          "output_type": "stream",
          "name": "stdout",
          "text": [
            "Enter the price of Tshirts= 700\n",
            "Enter the quantity of Tshirts= 2\n",
            "Enter the price of Trousers= 900\n",
            "Enter the quantity of Trousers= 2\n",
            "Total Price of 700 is 1400\n",
            "Total Price of 900 is 1800\n"
          ]
        }
      ]
    },
    {
      "cell_type": "markdown",
      "source": [
        "###20. Take three numbers as input from the user and display the result of multiplying the first number by the sum of the second and third numbers.\n"
      ],
      "metadata": {
        "id": "4bJnuBu911_w"
      }
    },
    {
      "cell_type": "code",
      "source": [
        "Num1=int(input(\"Enter 1st number= \"))\n",
        "Num2=int(input(\"Enter 2nd number= \"))\n",
        "Num3=int(input(\"Enter 3rd number= \"))\n",
        "Result=Num1*(Num2+Num3)\n",
        "print(\"Result\",\"is\",Result)"
      ],
      "metadata": {
        "colab": {
          "base_uri": "https://localhost:8080/"
        },
        "id": "7r1fx5UY17u8",
        "outputId": "cb0e750c-3f43-4547-d0db-677aff98952e"
      },
      "execution_count": null,
      "outputs": [
        {
          "output_type": "stream",
          "name": "stdout",
          "text": [
            "Enter 1st number= 45\n",
            "Enter 2nd number= 67\n",
            "Enter 3rd number= 44\n",
            "Result is 4995\n"
          ]
        }
      ]
    },
    {
      "cell_type": "markdown",
      "source": [
        "###21. Take the radius as input and calculate the circumference of a circle using the formula: C = 2 * π * r (use 3.14159 for π).\n"
      ],
      "metadata": {
        "id": "fOphabAd3IS0"
      }
    },
    {
      "cell_type": "code",
      "source": [
        "Radius=float(input(\"Enter radius of circle= \"))\n",
        "C=2*3.14159*Radius\n",
        "print(\"Circumference of circle\",\"is\",C)"
      ],
      "metadata": {
        "colab": {
          "base_uri": "https://localhost:8080/"
        },
        "id": "Vl4PLCSB3N7o",
        "outputId": "a6b57ecf-6054-46b9-feb6-4c9654e0254f"
      },
      "execution_count": null,
      "outputs": [
        {
          "output_type": "stream",
          "name": "stdout",
          "text": [
            "Enter radius of circle= 64\n",
            "Circumference of circle is 402.12352\n"
          ]
        }
      ]
    },
    {
      "cell_type": "markdown",
      "source": [
        "###22. Write a Python program to calculate the area of a square using the formula: area = side * side.\n"
      ],
      "metadata": {
        "id": "nAHM_QbL3YJu"
      }
    },
    {
      "cell_type": "code",
      "source": [
        "Side1=float(input(\"Enter first side of square= \"))\n",
        "Side2=float(input(\"Enter second side of square= \"))\n",
        "area=Side1*Side2\n",
        "print(\"Area of square\",\"is\",area)"
      ],
      "metadata": {
        "colab": {
          "base_uri": "https://localhost:8080/"
        },
        "id": "lg84Lp7z3dLG",
        "outputId": "546fee18-1014-42f2-b81a-482d85b48a92"
      },
      "execution_count": null,
      "outputs": [
        {
          "output_type": "stream",
          "name": "stdout",
          "text": [
            "Enter first side of square= 77\n",
            "Enter second side of square= 88\n",
            "Area of square is 6776.0\n"
          ]
        }
      ]
    },
    {
      "cell_type": "markdown",
      "source": [
        "###23. Take two numbers as input and display their exponential result using the power operator ().\n"
      ],
      "metadata": {
        "id": "GYBN4WQD3lCr"
      }
    },
    {
      "cell_type": "code",
      "source": [
        "Num1=int(input(\"first number= \"))\n",
        "Num2=int(input(\"second number= \"))\n",
        "Expo=Num1**Num2\n",
        "print(\"Exponential result\",\"is\",Expo)"
      ],
      "metadata": {
        "colab": {
          "base_uri": "https://localhost:8080/"
        },
        "id": "vEereMux3pRx",
        "outputId": "d53090e4-1ca3-46d9-ddc0-916d77f4ed03"
      },
      "execution_count": null,
      "outputs": [
        {
          "output_type": "stream",
          "name": "stdout",
          "text": [
            "first number= 3\n",
            "second number= 7\n",
            "Exponential result is 2187\n"
          ]
        }
      ]
    },
    {
      "cell_type": "markdown",
      "source": [
        "###24. Write a Python program to calculate the area of a circle using the formula: area = π * r^2.\n"
      ],
      "metadata": {
        "id": "u4-0gqYK31ga"
      }
    },
    {
      "cell_type": "code",
      "source": [
        "Radius=float(input(\"Enter radius of circle= \"))\n",
        "area=3.14159*Radius**2\n",
        "print(\"Area of circle\",\"is\",area)"
      ],
      "metadata": {
        "colab": {
          "base_uri": "https://localhost:8080/"
        },
        "id": "9O-1o_Vw35XY",
        "outputId": "279035be-3c4e-4a0e-eaa5-54cbd3f241ca"
      },
      "execution_count": null,
      "outputs": [
        {
          "output_type": "stream",
          "name": "stdout",
          "text": [
            "Enter radius of circle= 23\n",
            "Area of circle is 1661.90111\n"
          ]
        }
      ]
    },
    {
      "cell_type": "markdown",
      "source": [
        "###25. Take the base and exponent as input and display the result of base raised to the exponent.\n"
      ],
      "metadata": {
        "id": "621p1DdH4A7t"
      }
    },
    {
      "cell_type": "code",
      "source": [
        "Base=float(input(\"Enter the base= \"))\n",
        "Exponent=float(input(\"Enter the exponent= \"))\n",
        "Result=Base**Exponent\n",
        "print(\"Result of base raised to exponent\",\"is\",Result)"
      ],
      "metadata": {
        "colab": {
          "base_uri": "https://localhost:8080/"
        },
        "id": "GaEMRBbJ4FI8",
        "outputId": "aa248e0d-7627-43a5-faba-0e6d369d7947"
      },
      "execution_count": null,
      "outputs": [
        {
          "output_type": "stream",
          "name": "stdout",
          "text": [
            "Enter the base= 12\n",
            "Enter the exponent= 3\n",
            "Result of base raised to exponent is 1728.0\n"
          ]
        }
      ]
    },
    {
      "cell_type": "markdown",
      "source": [
        "###26. Write a Python program to convert an amount in kilometers to meters (1 km = 1000 meters).\n"
      ],
      "metadata": {
        "id": "MxpSsNET4NbG"
      }
    },
    {
      "cell_type": "code",
      "source": [
        "Km=float(input(\"Enter the amount in kilometers= \"))\n",
        "Meters=Km*1000\n",
        "print(\"Amount\",\"is\",Meters)"
      ],
      "metadata": {
        "colab": {
          "base_uri": "https://localhost:8080/"
        },
        "id": "M4jAuNrK4QiH",
        "outputId": "d6d6812e-d106-4b19-851f-75076a05e783"
      },
      "execution_count": null,
      "outputs": [
        {
          "output_type": "stream",
          "name": "stdout",
          "text": [
            "Enter the amount in kilometers= 10\n",
            "Amount is 10000.0\n"
          ]
        }
      ]
    },
    {
      "cell_type": "markdown",
      "source": [
        "###27. Take a number as input and display whether it is an even or odd number using modulus (%).\n"
      ],
      "metadata": {
        "id": "1eU5cG_q4YKQ"
      }
    },
    {
      "cell_type": "code",
      "source": [
        "Num=int(input(\"Enter a number= \"))\n",
        "if Num % 2==0:\n",
        " print(\"Num is Even\")\n",
        "else:\n",
        " print(\"Num is Odd\")\n"
      ],
      "metadata": {
        "colab": {
          "base_uri": "https://localhost:8080/"
        },
        "id": "CFQhf5ug4bys",
        "outputId": "314052fc-94f7-4fee-8113-501eef8b2011"
      },
      "execution_count": null,
      "outputs": [
        {
          "output_type": "stream",
          "name": "stdout",
          "text": [
            "Enter a number= 9\n",
            "Num is Odd\n"
          ]
        }
      ]
    },
    {
      "cell_type": "markdown",
      "source": [
        "###28. Write a Python program to calculate the total price of items where the price per item and number of items are provided by the user.\n"
      ],
      "metadata": {
        "id": "Ih6MIYQi4hu3"
      }
    },
    {
      "cell_type": "code",
      "source": [
        "Tshirts=int(input(\"Enter the price of Tshirts= \"))\n",
        "Quantity=int(input(\"Enter the quantity of Tshirts= \"))\n",
        "Trousers=int(input(\"Enter the price of Trousers= \"))\n",
        "Quantity=int(input(\"Enter the quantity of Trousers= \"))\n",
        "Totalprice1=(Tshirts*Quantity)\n",
        "Totalprice2=(Trousers*Quantity)\n",
        "print(\"Total Price of\",Tshirts,\"is\",Totalprice1)\n",
        "print(\"Total Price of\",Trousers,\"is\",Totalprice2)\n"
      ],
      "metadata": {
        "colab": {
          "base_uri": "https://localhost:8080/"
        },
        "id": "2LOnij7D4lSq",
        "outputId": "095675ae-a06a-4839-f920-f7829c55b179"
      },
      "execution_count": null,
      "outputs": [
        {
          "output_type": "stream",
          "name": "stdout",
          "text": [
            "Enter the price of Tshirts= 800\n",
            "Enter the quantity of Tshirts= 2\n",
            "Enter the price of Trousers= 1200\n",
            "Enter the quantity of Trousers= 2\n",
            "Total Price of 800 is 1600\n",
            "Total Price of 1200 is 2400\n"
          ]
        }
      ]
    },
    {
      "cell_type": "markdown",
      "source": [
        "###29. Take three numbers as input from the user and display the result of multiplying the first number by the sum of the second and third numbers.\n"
      ],
      "metadata": {
        "id": "roFssqE545rz"
      }
    },
    {
      "cell_type": "code",
      "source": [
        "Num1=int(input(\"Enter 1st number= \"))\n",
        "Num2=int(input(\"Enter 2nd number= \"))\n",
        "Num3=int(input(\"Enter 3rd number= \"))\n",
        "Result=Num1*(Num2+Num3)\n",
        "print(\"Result\",\"is\",Result)"
      ],
      "metadata": {
        "colab": {
          "base_uri": "https://localhost:8080/"
        },
        "id": "5DGwbLs74-G5",
        "outputId": "5288ffff-f906-4c44-d7d8-0a3f123f0096"
      },
      "execution_count": null,
      "outputs": [
        {
          "output_type": "stream",
          "name": "stdout",
          "text": [
            "Enter 1st number= 34\n",
            "Enter 2nd number= 65\n",
            "Enter 3rd number= 89\n",
            "Result is 5236\n"
          ]
        }
      ]
    },
    {
      "cell_type": "markdown",
      "source": [
        "###30. Write a Python program to calculate the speed using the formula: speed = distance / time."
      ],
      "metadata": {
        "id": "Cx8HKwjf5Gpe"
      }
    },
    {
      "cell_type": "code",
      "source": [
        "distance=float(input(\"Enter the distance= \"))\n",
        "time=float(input(\"Enter the time= \"))\n",
        "speed=distance/time\n",
        "print(\"Speed\",\"is\",speed)\n"
      ],
      "metadata": {
        "colab": {
          "base_uri": "https://localhost:8080/"
        },
        "id": "BPUhS0YI5KoS",
        "outputId": "49be12c5-f183-4bda-d5af-6d6f40dff953"
      },
      "execution_count": null,
      "outputs": [
        {
          "output_type": "stream",
          "name": "stdout",
          "text": [
            "Enter the distance= 1200\n",
            "Enter the time= 5\n",
            "Speed is 240.0\n"
          ]
        }
      ]
    }
  ]
}