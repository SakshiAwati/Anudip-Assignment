{
  "nbformat": 4,
  "nbformat_minor": 0,
  "metadata": {
    "colab": {
      "provenance": []
    },
    "kernelspec": {
      "name": "python3",
      "display_name": "Python 3"
    },
    "language_info": {
      "name": "python"
    }
  },
  "cells": [
    {
      "cell_type": "markdown",
      "source": [
        "###Question no 1: Given a tuple my_tuple = (10, 20, 30, 40, 50), how can you access the element 30 from the tuple using positive indexing? Write a Python program to achieve this.\n",
        "\n"
      ],
      "metadata": {
        "id": "IRn1hDWlSMq8"
      }
    },
    {
      "cell_type": "code",
      "source": [
        "my_tuple=(10,20,30,40,50)\n",
        "element = my_tuple[2]\n",
        "print(element)"
      ],
      "metadata": {
        "colab": {
          "base_uri": "https://localhost:8080/"
        },
        "id": "3sTE5QfOSb8d",
        "outputId": "234aeb86-db9a-41dc-b2ef-6dda99826271"
      },
      "execution_count": null,
      "outputs": [
        {
          "output_type": "stream",
          "name": "stdout",
          "text": [
            "30\n"
          ]
        }
      ]
    },
    {
      "cell_type": "markdown",
      "source": [
        "###Question no 2: Suppose you have a tuple my_tuple = (15, 25, 35, 45, 55), how can you access the element 45 from the tuple using negative indexing? Write a Python program to achieve this.\n"
      ],
      "metadata": {
        "id": "xoA_jbXRTQj4"
      }
    },
    {
      "cell_type": "code",
      "source": [
        "my_tuple=(15,25,35,45,55)\n",
        "element = my_tuple[-2]\n",
        "print(element)\n"
      ],
      "metadata": {
        "colab": {
          "base_uri": "https://localhost:8080/"
        },
        "id": "Bmo1guIrTT4I",
        "outputId": "70bbb308-d9b8-4916-fcd0-5409e3cda85d"
      },
      "execution_count": null,
      "outputs": [
        {
          "output_type": "stream",
          "name": "stdout",
          "text": [
            "45\n"
          ]
        }
      ]
    },
    {
      "cell_type": "markdown",
      "source": [
        "###Question no 3: Given a tuple my_tuple = (1, 2, 3, (4, 5, 6)), how can you access the element 5 from the nested tuple within it using nested indexing? Write a Python program to achieve this.\n",
        "\n"
      ],
      "metadata": {
        "id": "swvnmUu6U-J2"
      }
    },
    {
      "cell_type": "code",
      "source": [
        "my_tuple = (1, 2, 3, (4, 5, 6))\n",
        "element = my_tuple[3][1]\n",
        "print(element)"
      ],
      "metadata": {
        "colab": {
          "base_uri": "https://localhost:8080/"
        },
        "id": "C43LOQ-WCaRS",
        "outputId": "c674af07-0dc3-4795-b580-4fcef4db9a3c"
      },
      "execution_count": null,
      "outputs": [
        {
          "output_type": "stream",
          "name": "stdout",
          "text": [
            "5\n"
          ]
        }
      ]
    },
    {
      "cell_type": "markdown",
      "source": [
        "###Question no 4: Suppose you have a tuple my_tuple = (10, 20, 30, 40, 50), how can you slice the tuple to obtain (20, 30, 40)? Write a Python program to achieve this.\n",
        "\n"
      ],
      "metadata": {
        "id": "t73AStSQC4Ct"
      }
    },
    {
      "cell_type": "code",
      "execution_count": null,
      "metadata": {
        "id": "dzDojI9xSHM3",
        "colab": {
          "base_uri": "https://localhost:8080/"
        },
        "outputId": "f717c61c-369e-4001-8e76-0b6acf56ee41"
      },
      "outputs": [
        {
          "output_type": "stream",
          "name": "stdout",
          "text": [
            "(20, 30, 40)\n"
          ]
        }
      ],
      "source": [
        "my_tuple = (10, 20, 30, 40, 50)\n",
        "element = my_tuple[1:-1]\n",
        "print(element)"
      ]
    },
    {
      "cell_type": "markdown",
      "source": [
        "###Question no 5: Given a tuple my_tuple = (1, 2, 3, 4, 5), how can you access the last element without knowing its index? Write a Python program to achieve this.\n",
        "\n"
      ],
      "metadata": {
        "id": "3l7v3FrxDmwm"
      }
    },
    {
      "cell_type": "code",
      "source": [
        "my_tuple = (1, 2, 3, 4, 5)\n",
        "element = my_tuple[-1]\n",
        "print(element)"
      ],
      "metadata": {
        "colab": {
          "base_uri": "https://localhost:8080/"
        },
        "id": "gGuwz9wsDoRf",
        "outputId": "655fd820-90b8-4862-b944-671984f08da3"
      },
      "execution_count": null,
      "outputs": [
        {
          "output_type": "stream",
          "name": "stdout",
          "text": [
            "5\n"
          ]
        }
      ]
    },
    {
      "cell_type": "markdown",
      "source": [
        "###Question no 6: Suppose you have two tuples tuple1 = (10, 20, 30) and tuple2 = (40, 50, 60), how can you concatenate them into a single tuple? Write a Python program to achieve this.\n",
        "\n"
      ],
      "metadata": {
        "id": "TzT5Jdu0ENjs"
      }
    },
    {
      "cell_type": "code",
      "source": [
        "tuple1 = (10, 20, 30)\n",
        "tuple2 = (40, 50, 60)\n",
        "list(zip(tuple1,tuple2))\n"
      ],
      "metadata": {
        "colab": {
          "base_uri": "https://localhost:8080/"
        },
        "id": "T55TDeprERAs",
        "outputId": "2c09cb1e-7f54-4d01-aad4-e74edcd1dc11"
      },
      "execution_count": null,
      "outputs": [
        {
          "output_type": "execute_result",
          "data": {
            "text/plain": [
              "[(10, 40), (20, 50), (30, 60)]"
            ]
          },
          "metadata": {},
          "execution_count": 12
        }
      ]
    },
    {
      "cell_type": "markdown",
      "source": [
        "###Question no 7: Given a tuple my_tuple = ('a', 'b', 'c', 'd', 'e'), how can you check if the element 'c' exists in the tuple? Write a Python program to achieve this.\n",
        "\n"
      ],
      "metadata": {
        "id": "fg3FLPGIFLVK"
      }
    },
    {
      "cell_type": "code",
      "source": [
        "my_tuple = ('a', 'b', 'c', 'd', 'e')\n",
        "if \"c\" in my_tuple:\n",
        "  print(\"c exists\")\n",
        "else:\n",
        "  print(\"Doesn't exists\")\n",
        "\n"
      ],
      "metadata": {
        "colab": {
          "base_uri": "https://localhost:8080/"
        },
        "id": "aexvRslDFO4U",
        "outputId": "a9f618aa-b0e0-4ca9-961d-93804a220ab4"
      },
      "execution_count": null,
      "outputs": [
        {
          "output_type": "stream",
          "name": "stdout",
          "text": [
            "c exists\n"
          ]
        }
      ]
    },
    {
      "cell_type": "markdown",
      "source": [
        "###Question no 8: Suppose you have a tuple my_tuple = ('apple', 'banana', 'cherry', 'apple'), how can you count the number of occurrences of 'apple' in the tuple? Write a Python program to achieve this.\n"
      ],
      "metadata": {
        "id": "5fsGZtmzF6R7"
      }
    },
    {
      "cell_type": "code",
      "source": [
        "my_tuple = ('apple', 'banana', 'cherry', 'apple')\n",
        "apple =my_tuple.count(\"apple\")\n",
        "print(apple)"
      ],
      "metadata": {
        "colab": {
          "base_uri": "https://localhost:8080/"
        },
        "id": "8WiJi1QYF9wP",
        "outputId": "417665ab-a343-472f-acfe-3c67f23ef72b"
      },
      "execution_count": null,
      "outputs": [
        {
          "output_type": "stream",
          "name": "stdout",
          "text": [
            "2\n"
          ]
        }
      ]
    },
    {
      "cell_type": "markdown",
      "source": [
        "###Question no 9: Given a tuple my_tuple = (3.14, 'hello', True, (1, 2, 3)), how can you access the nested tuple (1, 2, 3) from it? Write a Python program to achieve this.\n"
      ],
      "metadata": {
        "id": "oE4U_1_wHZaM"
      }
    },
    {
      "cell_type": "code",
      "source": [
        "my_tuple = (3.14, 'hello', True, (1, 2, 3))\n",
        "element = my_tuple[-1]\n",
        "print(element)"
      ],
      "metadata": {
        "colab": {
          "base_uri": "https://localhost:8080/"
        },
        "id": "dMP_UOWpHcfQ",
        "outputId": "cf56b9fa-a504-422a-93bc-d35f7581fbad"
      },
      "execution_count": null,
      "outputs": [
        {
          "output_type": "stream",
          "name": "stdout",
          "text": [
            "(1, 2, 3)\n"
          ]
        }
      ]
    },
    {
      "cell_type": "markdown",
      "source": [
        "###Question no 10: Suppose you have a tuple my_tuple = (10, 20, 30), how can you convert it into a list? Write a Python program to achieve this.\n"
      ],
      "metadata": {
        "id": "08wi5Qu4IEv2"
      }
    },
    {
      "cell_type": "code",
      "source": [
        "my_tuple = (10, 20, 30)\n",
        "my_list=list(my_tuple)\n",
        "print(my_list)"
      ],
      "metadata": {
        "colab": {
          "base_uri": "https://localhost:8080/"
        },
        "id": "BD1fTEIqIJml",
        "outputId": "05671055-ff25-46e3-fece-9b051f78a44b"
      },
      "execution_count": null,
      "outputs": [
        {
          "output_type": "stream",
          "name": "stdout",
          "text": [
            "[10, 20, 30]\n"
          ]
        }
      ]
    },
    {
      "cell_type": "markdown",
      "source": [
        "###Question no 12: Suppose you have a tuple my_tuple = (10, 20, 30, 40, 50), how can you find the smallest and largest elements in the tuple? Write a Python program to achieve this.\n",
        "\n"
      ],
      "metadata": {
        "id": "4tT_O1OcItwR"
      }
    },
    {
      "cell_type": "code",
      "source": [
        "my_tuple = (10, 20, 30, 40, 50)\n",
        "a = min(my_tuple)\n",
        "print(a,\"is smallest element in the tuple.\")\n",
        "b = max(my_tuple)\n",
        "print(b,\"is largest element in the tuple.\")"
      ],
      "metadata": {
        "colab": {
          "base_uri": "https://localhost:8080/"
        },
        "id": "xC4duM_WIy_K",
        "outputId": "6e741eb2-47e3-44c9-9e2f-36332aba0be5"
      },
      "execution_count": null,
      "outputs": [
        {
          "output_type": "stream",
          "name": "stdout",
          "text": [
            "10 is smallest element in the tuple.\n",
            "50 is largest element in the tuple.\n"
          ]
        }
      ]
    },
    {
      "cell_type": "markdown",
      "source": [
        "###Question no 15: Given two tuples tuple1 = (1, 2, 3) and tuple2 = (4, 5, 6), how can you check if the two tuples are equal? Write a Python program to achieve this."
      ],
      "metadata": {
        "id": "ixnzV-e7JFzl"
      }
    },
    {
      "cell_type": "code",
      "source": [
        "tuple1 = (1, 2, 3)\n",
        "tuple2 = (4, 5, 6)\n",
        "if tuple1==tuple2:\n",
        "  print(\"Tuples are equal\")\n",
        "else:\n",
        "  print(\"Tuples are not equal\")"
      ],
      "metadata": {
        "colab": {
          "base_uri": "https://localhost:8080/"
        },
        "id": "wZkz14E_JKHA",
        "outputId": "bcbe170a-c9b7-42c4-caae-3ae91c6ca645"
      },
      "execution_count": null,
      "outputs": [
        {
          "output_type": "stream",
          "name": "stdout",
          "text": [
            "Tuples are not equal\n"
          ]
        }
      ]
    }
  ]
}