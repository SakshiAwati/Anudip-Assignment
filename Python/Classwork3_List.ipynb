{
  "nbformat": 4,
  "nbformat_minor": 0,
  "metadata": {
    "colab": {
      "provenance": []
    },
    "kernelspec": {
      "name": "python3",
      "display_name": "Python 3"
    },
    "language_info": {
      "name": "python"
    }
  },
  "cells": [
    {
      "cell_type": "markdown",
      "source": [
        "###1. Write a Python program to sum all the elements in a list.\n",
        " Sample Input: [1, 2, 3, 4, 5]\n",
        "Expected Output: Sum = 15\n",
        "\n"
      ],
      "metadata": {
        "id": "wXP8Zww9pAno"
      }
    },
    {
      "cell_type": "code",
      "source": [
        "my_list=[1,2,3,4,5]\n",
        "Sum=sum(my_list)\n",
        "print(Sum)\n",
        "\n",
        "\n",
        "\n"
      ],
      "metadata": {
        "colab": {
          "base_uri": "https://localhost:8080/"
        },
        "id": "3Qze-xGhpOap",
        "outputId": "ce3b2659-e46d-4f10-b78c-302cd3a64bd4"
      },
      "execution_count": null,
      "outputs": [
        {
          "output_type": "stream",
          "name": "stdout",
          "text": [
            "15\n"
          ]
        }
      ]
    },
    {
      "cell_type": "markdown",
      "source": [
        " ###2. Write a Python program to find the largest element in a list.\n",
        " Sample Input: [10, 20, 4, 45, 99]\n",
        " Expected Output: Largest Element = 99\n"
      ],
      "metadata": {
        "id": "zcFs59oNrL2O"
      }
    },
    {
      "cell_type": "code",
      "source": [
        "my_list=[10,20,4,45,99]\n",
        "find=max(my_list)\n",
        "print(find)\n"
      ],
      "metadata": {
        "colab": {
          "base_uri": "https://localhost:8080/"
        },
        "id": "brUB8GdvrT1k",
        "outputId": "aa3a0ce1-4171-43b2-c62a-317a66b3bee6"
      },
      "execution_count": null,
      "outputs": [
        {
          "output_type": "stream",
          "name": "stdout",
          "text": [
            "99\n"
          ]
        }
      ]
    },
    {
      "cell_type": "markdown",
      "source": [
        "###3. Write a Python program to count the number of elements in a list.\n",
        "### Sample Input: [1, 2, 3, 4, 5]\n",
        "### Expected Output: Count = 5\n"
      ],
      "metadata": {
        "id": "R5IiBpJWr4kp"
      }
    },
    {
      "cell_type": "code",
      "source": [
        "my_list=[1,2,3,4,5]\n",
        "count=len(my_list)\n",
        "print(count)"
      ],
      "metadata": {
        "colab": {
          "base_uri": "https://localhost:8080/"
        },
        "id": "SKWb1Yzrr86x",
        "outputId": "0a268966-1c8d-4d95-a3f0-e2ff4d34cbd1"
      },
      "execution_count": null,
      "outputs": [
        {
          "output_type": "stream",
          "name": "stdout",
          "text": [
            "5\n"
          ]
        }
      ]
    },
    {
      "cell_type": "markdown",
      "source": [
        "### 4. Write a Python program to find the average of elements in a list.\n",
        "### Sample Input: [1, 2, 3, 4, 5]\n",
        "### Expected Output: Average = 3.0\n",
        "\n"
      ],
      "metadata": {
        "id": "TWQz_sRTuf8D"
      }
    },
    {
      "cell_type": "code",
      "source": [
        "my_list=[1,2,3,4,5]\n",
        "avg=sum(my_list)/len(my_list)\n",
        "print(avg)"
      ],
      "metadata": {
        "colab": {
          "base_uri": "https://localhost:8080/"
        },
        "id": "-dLdUoprulwj",
        "outputId": "95613246-9e7d-4dec-c498-a9701e6b91e9"
      },
      "execution_count": null,
      "outputs": [
        {
          "output_type": "stream",
          "name": "stdout",
          "text": [
            "3.0\n"
          ]
        }
      ]
    },
    {
      "cell_type": "markdown",
      "source": [
        "### 5. Write a Python program to reverse a list.\n",
        "### Sample Input: [1, 2, 3, 4, 5]\n",
        "### Expected Output: Reversed List = [5, 4, 3, 2, 1]\n",
        "\n"
      ],
      "metadata": {
        "id": "P4c-Ta6wvkCV"
      }
    },
    {
      "cell_type": "code",
      "source": [
        "my_list=[1,2,3,4,5]\n",
        "my_list.reverse()\n",
        "print(my_list)\n"
      ],
      "metadata": {
        "colab": {
          "base_uri": "https://localhost:8080/"
        },
        "id": "ABZ4lx4mvs-a",
        "outputId": "5b21051b-b737-43a1-d33f-8d20de8764bb"
      },
      "execution_count": null,
      "outputs": [
        {
          "output_type": "stream",
          "name": "stdout",
          "text": [
            "[5, 4, 3, 2, 1]\n"
          ]
        }
      ]
    },
    {
      "cell_type": "markdown",
      "source": [
        "###6. Write a Python program to check if a given element exists in a list.\n",
        "Sample Input: List = [1, 2, 3, 4, 5], Element = 3\n",
        "Expected Output: Element exists in list."
      ],
      "metadata": {
        "id": "NAVl3m5qBnf3"
      }
    },
    {
      "cell_type": "code",
      "source": [
        "my_list=[1,2,3,4,5]"
      ],
      "metadata": {
        "id": "nctto3M1BsjC"
      },
      "execution_count": null,
      "outputs": []
    },
    {
      "cell_type": "code",
      "source": [
        "element=3\n",
        "new = my_list.count(element)\n",
        "if new == 0:\n",
        "  print(\"Element does not exist in list\")\n",
        "else:\n",
        "  print(\"Element exists in list\")"
      ],
      "metadata": {
        "colab": {
          "base_uri": "https://localhost:8080/"
        },
        "id": "kztvZY_aCS8z",
        "outputId": "841bd521-58cc-4a0e-c9f9-0c8ea028338e"
      },
      "execution_count": null,
      "outputs": [
        {
          "output_type": "stream",
          "name": "stdout",
          "text": [
            "Element exists in list\n"
          ]
        }
      ]
    },
    {
      "cell_type": "markdown",
      "source": [
        "###7. Write a Python program to remove duplicate elements from a list.\n",
        "Sample Input: [1, 2, 2, 3, 4, 4, 5]\n",
        "Expected Output: List without duplicates = [1, 2, 3, 4, 5]"
      ],
      "metadata": {
        "id": "1ioe6KMlCecI"
      }
    },
    {
      "cell_type": "code",
      "source": [
        "my_list=[1,2,2,3,4,4,5]"
      ],
      "metadata": {
        "id": "697wrnSjCjmI"
      },
      "execution_count": null,
      "outputs": []
    },
    {
      "cell_type": "code",
      "source": [
        "my_list = list(set(my_list))\n",
        "print(my_list)"
      ],
      "metadata": {
        "colab": {
          "base_uri": "https://localhost:8080/"
        },
        "id": "FAWr1yiYCrnp",
        "outputId": "c99a42cb-e4a1-44f3-9d45-8de36f1e0499"
      },
      "execution_count": null,
      "outputs": [
        {
          "output_type": "stream",
          "name": "stdout",
          "text": [
            "[1, 2, 3, 4, 5]\n"
          ]
        }
      ]
    },
    {
      "cell_type": "markdown",
      "source": [
        "###8. Write a Python program to find the second largest element in a list.\n",
        "Sample Input: [10, 20, 4, 45, 99]\n",
        "Expected Output: Second Largest Element = 45"
      ],
      "metadata": {
        "id": "BBScWKFRDBvs"
      }
    },
    {
      "cell_type": "code",
      "source": [
        "my_list=[10,20,4,45,99]"
      ],
      "metadata": {
        "id": "royWz8BoDFC3"
      },
      "execution_count": null,
      "outputs": []
    },
    {
      "cell_type": "code",
      "source": [
        "sorted_list = sorted(my_list)\n",
        "print(sorted_list[-2])"
      ],
      "metadata": {
        "colab": {
          "base_uri": "https://localhost:8080/"
        },
        "id": "DpLIOHOeDLMz",
        "outputId": "3d820a83-0cf6-40d3-86ed-d8514f16e722"
      },
      "execution_count": null,
      "outputs": [
        {
          "output_type": "stream",
          "name": "stdout",
          "text": [
            "45\n"
          ]
        }
      ]
    },
    {
      "cell_type": "markdown",
      "source": [
        "###9. Write a Python program to sort elements in a list in ascending order.\n",
        "Sample Input: [5, 2, 9, 1, 5, 6]\n",
        "Expected Output: Sorted List = [1, 2, 5, 5, 6, 9]"
      ],
      "metadata": {
        "id": "rlxTwAExDRZb"
      }
    },
    {
      "cell_type": "code",
      "source": [
        "my_list = [5, 2, 9, 1, 5, 6]\n",
        "sorted_list = sorted(my_list)\n",
        "print(sorted_list)"
      ],
      "metadata": {
        "colab": {
          "base_uri": "https://localhost:8080/"
        },
        "id": "INWAhn9HDUk5",
        "outputId": "abb3cb10-194b-45d4-ed23-58e9c41f8839"
      },
      "execution_count": null,
      "outputs": [
        {
          "output_type": "stream",
          "name": "stdout",
          "text": [
            "[1, 2, 5, 5, 6, 9]\n"
          ]
        }
      ]
    },
    {
      "cell_type": "markdown",
      "source": [
        "\n",
        "###10. Write a Python program to merge two lists and sort them.\n",
        "Sample Input: List1 = [1, 5, 3], List2 = [8, 6, 2]\n",
        "Expected Output: Merged and Sorted List = [1, 2, 3, 5, 6, 8]"
      ],
      "metadata": {
        "id": "tbkmspfMDfhd"
      }
    },
    {
      "cell_type": "code",
      "source": [
        "my_list1 = [1, 5, 3]\n",
        "my_list2 = [8, 6, 2]"
      ],
      "metadata": {
        "id": "JIjvXWXsDp-b"
      },
      "execution_count": null,
      "outputs": []
    },
    {
      "cell_type": "code",
      "source": [
        "merged_list = my_list1 + my_list2\n",
        "merged_list.sort()\n",
        "print(merged_list)"
      ],
      "metadata": {
        "colab": {
          "base_uri": "https://localhost:8080/"
        },
        "id": "Ews2BBGVD5Uj",
        "outputId": "1809fd4b-7768-4c23-ab00-3786fa4197d8"
      },
      "execution_count": null,
      "outputs": [
        {
          "output_type": "stream",
          "name": "stdout",
          "text": [
            "[1, 2, 3, 5, 6, 8]\n"
          ]
        }
      ]
    },
    {
      "cell_type": "markdown",
      "source": [
        "###11. Question: Given a nested list nested_list_row = [[1, 2, 3], [4, 5, 6], [7, 8, 9]], how can you access the number 9 from the list? Write a Python program to achieve this."
      ],
      "metadata": {
        "id": "tIUYvC1HEBnZ"
      }
    },
    {
      "cell_type": "code",
      "source": [
        "my_list = [[1, 2, 3], [4, 5, 6], [7, 8, 9]]"
      ],
      "metadata": {
        "id": "WehJj3AyED1k"
      },
      "execution_count": null,
      "outputs": []
    },
    {
      "cell_type": "code",
      "source": [
        "value = my_list[-1][-1]\n",
        "\n",
        "print(value)"
      ],
      "metadata": {
        "colab": {
          "base_uri": "https://localhost:8080/"
        },
        "id": "WDT2O29LEL11",
        "outputId": "966cc012-3d9a-4484-dd77-4f83e138e9dc"
      },
      "execution_count": null,
      "outputs": [
        {
          "output_type": "stream",
          "name": "stdout",
          "text": [
            "9\n"
          ]
        }
      ]
    },
    {
      "cell_type": "markdown",
      "source": [
        "###12. Question: Suppose you have a nested list nested_list_column = [[1, 2, 3], [4, 5, 6], [7, 8, 9]], how can you access the number 8 from the list? Write a Python program to achieve this."
      ],
      "metadata": {
        "id": "-dzh9mzbER9L"
      }
    },
    {
      "cell_type": "code",
      "source": [
        "my_list = [[1, 2, 3], [4, 5, 6], [7, 8, 9]]"
      ],
      "metadata": {
        "id": "JeQAbJ6qEVQ-"
      },
      "execution_count": null,
      "outputs": []
    },
    {
      "cell_type": "code",
      "source": [
        "value = my_list[-1][-2]\n",
        "\n",
        "print(value)"
      ],
      "metadata": {
        "colab": {
          "base_uri": "https://localhost:8080/"
        },
        "id": "oZ-53__uEZAR",
        "outputId": "f5836a23-32c1-4234-d687-22fee966a36a"
      },
      "execution_count": null,
      "outputs": [
        {
          "output_type": "stream",
          "name": "stdout",
          "text": [
            "8\n"
          ]
        }
      ]
    },
    {
      "cell_type": "markdown",
      "source": [
        "###13. Question: How can you access the number 100 from the nested list nested_list_column = [[1, 2, 3], [4, 5, 6], [7, 8, 9,[1,55,77,100]]?"
      ],
      "metadata": {
        "id": "kYP4hAKTEei0"
      }
    },
    {
      "cell_type": "code",
      "source": [
        "nested_list_column = [[1, 2, 3], [4, 5, 6], [7, 8, 9,[1,55,77,100]]]"
      ],
      "metadata": {
        "id": "04FioHioEh6p"
      },
      "execution_count": null,
      "outputs": []
    },
    {
      "cell_type": "code",
      "source": [
        "value = nested_list_column[-1][-1][-1]\n",
        "\n",
        "print(value)"
      ],
      "metadata": {
        "colab": {
          "base_uri": "https://localhost:8080/"
        },
        "id": "RLm0qjjuEwM2",
        "outputId": "3583f6d3-1957-45f1-81bf-9b79c776cddc"
      },
      "execution_count": null,
      "outputs": [
        {
          "output_type": "stream",
          "name": "stdout",
          "text": [
            "100\n"
          ]
        }
      ]
    },
    {
      "cell_type": "markdown",
      "source": [
        "###14. Question: How can you access the number 100 from the nested list nested_list_column = [[1, 2, 3], [4, 5, 6], [7, 8, 9, [1,55,77,100]] using negative indexing?"
      ],
      "metadata": {
        "id": "U5hQjiJBExu8"
      }
    },
    {
      "cell_type": "code",
      "source": [
        "nested_list_column = [[1, 2, 3], [4, 5, 6], [7, 8, 9, [1,55,77,100]]]\n",
        "value = nested_list_column[-1][-1][-1]\n",
        "print(value)"
      ],
      "metadata": {
        "colab": {
          "base_uri": "https://localhost:8080/"
        },
        "id": "QoIyxUshE2Dx",
        "outputId": "c007624d-7003-462d-9ac1-37f25932fd8d"
      },
      "execution_count": null,
      "outputs": [
        {
          "output_type": "stream",
          "name": "stdout",
          "text": [
            "100\n"
          ]
        }
      ]
    }
  ]
}