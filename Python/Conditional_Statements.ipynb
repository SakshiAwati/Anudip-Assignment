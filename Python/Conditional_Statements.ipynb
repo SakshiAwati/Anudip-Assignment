{
  "nbformat": 4,
  "nbformat_minor": 0,
  "metadata": {
    "colab": {
      "provenance": []
    },
    "kernelspec": {
      "name": "python3",
      "display_name": "Python 3"
    },
    "language_info": {
      "name": "python"
    }
  },
  "cells": [
    {
      "cell_type": "markdown",
      "source": [
        "###Question 1: Write a Python program that checks if a given number is even. If it is, print \"Even number\".\n",
        "\n",
        "\n"
      ],
      "metadata": {
        "id": "ylDyZkjJjnii"
      }
    },
    {
      "cell_type": "code",
      "source": [
        "num=int(input(\"Enter a num; \"))\n",
        "if num % 2 ==0:\n",
        "  print(\"Even number\")"
      ],
      "metadata": {
        "colab": {
          "base_uri": "https://localhost:8080/"
        },
        "id": "LEULKbJGjybx",
        "outputId": "2e8fb7d6-b7a7-4d36-b4c4-12bdc8113c21"
      },
      "execution_count": null,
      "outputs": [
        {
          "output_type": "stream",
          "name": "stdout",
          "text": [
            "Enter a num; 8\n",
            "Even number\n"
          ]
        }
      ]
    },
    {
      "cell_type": "markdown",
      "source": [
        "###Question 2: Write a Python program that checks if a given string contains the letter 'a'. If it does, print \"String contains 'a'\".\n"
      ],
      "metadata": {
        "id": "hxKa-dnmj0TN"
      }
    },
    {
      "cell_type": "code",
      "source": [
        "str=input(\"Enter a string: \")\n",
        "if 'a' in str:\n",
        "  print(\"String contains a\")"
      ],
      "metadata": {
        "colab": {
          "base_uri": "https://localhost:8080/"
        },
        "id": "FHSIARRcj4Bc",
        "outputId": "21cc6bde-2942-4836-bc7a-1b64554cf931"
      },
      "execution_count": null,
      "outputs": [
        {
          "output_type": "stream",
          "name": "stdout",
          "text": [
            "Enter a string: sakshi\n",
            "String contains a\n"
          ]
        }
      ]
    },
    {
      "cell_type": "markdown",
      "source": [
        "###Question 3: Write a Python program that checks if a given year is a leap year. If it is, print \"Leap year\".\n"
      ],
      "metadata": {
        "id": "F1vylQ2xj4Yd"
      }
    },
    {
      "cell_type": "code",
      "source": [
        "Year=int(input(\"Enter a Year: \"))\n",
        "if Year % 4 ==0:\n",
        "  print(\"Its a leap year\")\n"
      ],
      "metadata": {
        "colab": {
          "base_uri": "https://localhost:8080/"
        },
        "id": "yEi_S3uBkClJ",
        "outputId": "bef401bc-d1da-4a16-9ee6-1bc01e26b174"
      },
      "execution_count": null,
      "outputs": [
        {
          "output_type": "stream",
          "name": "stdout",
          "text": [
            "Enter a Year: 2024\n",
            "Its a leap year\n"
          ]
        }
      ]
    },
    {
      "cell_type": "markdown",
      "source": [
        "###Question 4: Write a Python program that checks if a given number is positive. If it is, print \"Positive number\".\n"
      ],
      "metadata": {
        "id": "2rW9ER5OkCvk"
      }
    },
    {
      "cell_type": "code",
      "source": [
        "num=int(input(\"Enter a num: \"))\n",
        "if num >0:\n",
        "  print(\"Positive number\")"
      ],
      "metadata": {
        "colab": {
          "base_uri": "https://localhost:8080/"
        },
        "id": "TxIIbJFrkD_Z",
        "outputId": "0fbf2a7b-1ce1-4382-d716-7ca14ccfeaa3"
      },
      "execution_count": null,
      "outputs": [
        {
          "output_type": "stream",
          "name": "stdout",
          "text": [
            "Enter a num: 2\n",
            "Positive number\n"
          ]
        }
      ]
    },
    {
      "cell_type": "markdown",
      "source": [
        "###Question 5: Write a Python program that checks if a given character is a vowel. If it is, print \"Vowel\".\n"
      ],
      "metadata": {
        "id": "vp1HyEl8kHBY"
      }
    },
    {
      "cell_type": "code",
      "source": [
        "char=input(\"Enter a character: \")\n",
        "if char in 'aeiou':\n",
        "  print(\"Vowel\")"
      ],
      "metadata": {
        "colab": {
          "base_uri": "https://localhost:8080/"
        },
        "id": "YHaFRDo-kILk",
        "outputId": "461c5bf2-0847-404e-9e61-c39732640676"
      },
      "execution_count": null,
      "outputs": [
        {
          "output_type": "stream",
          "name": "stdout",
          "text": [
            "Enter a character: aeiou\n",
            "Vowel\n"
          ]
        }
      ]
    },
    {
      "cell_type": "markdown",
      "source": [
        "###Question 6: Write a Python program that checks if a given number is greater than 100. If it is, print \"Greater than 100\".\n"
      ],
      "metadata": {
        "id": "tlhXcIW2kK2D"
      }
    },
    {
      "cell_type": "code",
      "source": [
        "num=int(input(\"Enter a num: \"))\n",
        "if num>100:\n",
        "  print(\"Num is greater than 100\")"
      ],
      "metadata": {
        "colab": {
          "base_uri": "https://localhost:8080/"
        },
        "id": "0Y4wRl5TkL46",
        "outputId": "82084830-d241-4b3f-ecc8-026efd6361ea"
      },
      "execution_count": null,
      "outputs": [
        {
          "output_type": "stream",
          "name": "stdout",
          "text": [
            "Enter a num: 206\n",
            "Num is greater than 100\n"
          ]
        }
      ]
    },
    {
      "cell_type": "markdown",
      "source": [
        "###Question 7: Write a Python program that checks if a given string is empty. If it is, print \"Empty string\".\n"
      ],
      "metadata": {
        "id": "OIE4419xkN74"
      }
    },
    {
      "cell_type": "code",
      "source": [
        "str=input(\"Enter a String: \")\n",
        "if str == \"\":\n",
        " print(\"Empty string\")"
      ],
      "metadata": {
        "colab": {
          "base_uri": "https://localhost:8080/"
        },
        "id": "c9yYFXNPkO7R",
        "outputId": "68de7637-b221-4d5f-de30-a369c681edd9"
      },
      "execution_count": null,
      "outputs": [
        {
          "output_type": "stream",
          "name": "stdout",
          "text": [
            "Enter a String: \n",
            "Empty string\n"
          ]
        }
      ]
    },
    {
      "cell_type": "markdown",
      "source": [
        "###Question 8: Write a Python program that checks if a given number is divisible by both 5 and 7. If it is, print \"Divisible by 5 and 7\".\n"
      ],
      "metadata": {
        "id": "n6LuUWzmkRjs"
      }
    },
    {
      "cell_type": "code",
      "source": [
        "num=float(input(\"Enter a num: \"))\n",
        "if num % 5 == 0 and num % 7 == 0:\n",
        "  print(\"Divisible by 5 and 7\")"
      ],
      "metadata": {
        "colab": {
          "base_uri": "https://localhost:8080/"
        },
        "id": "Oc_JwnH_kSug",
        "outputId": "2d71f2ed-d1eb-4997-eea8-3af95479abdd"
      },
      "execution_count": null,
      "outputs": [
        {
          "output_type": "stream",
          "name": "stdout",
          "text": [
            "Enter a num: 35\n",
            "Divisible by 5 and 7\n"
          ]
        }
      ]
    },
    {
      "cell_type": "markdown",
      "source": [
        "###Question 9: Write a Python program that checks if a given list contains any negative numbers. If it does, print \"List contains negative numbers\".\n"
      ],
      "metadata": {
        "id": "nUrXwpYokVse"
      }
    },
    {
      "cell_type": "code",
      "source": [
        "num = list(str(int, input(\"Enter a list of numbers: \")))\n",
        "if any(num < 0 for num in num):\n",
        "    print(\"List contains negative numbers\")"
      ],
      "metadata": {
        "colab": {
          "base_uri": "https://localhost:8080/",
          "height": 200
        },
        "id": "aQlcB3DLkW1U",
        "outputId": "5012161b-14e1-4f1f-ab4a-733a9cf770e2"
      },
      "execution_count": null,
      "outputs": [
        {
          "name": "stdout",
          "output_type": "stream",
          "text": [
            "Enter a list of numbers: 4567\n"
          ]
        },
        {
          "output_type": "error",
          "ename": "TypeError",
          "evalue": "'str' object is not callable",
          "traceback": [
            "\u001b[0;31m---------------------------------------------------------------------------\u001b[0m",
            "\u001b[0;31mTypeError\u001b[0m                                 Traceback (most recent call last)",
            "\u001b[0;32m<ipython-input-49-72c930c7e586>\u001b[0m in \u001b[0;36m<cell line: 1>\u001b[0;34m()\u001b[0m\n\u001b[0;32m----> 1\u001b[0;31m \u001b[0mnum\u001b[0m \u001b[0;34m=\u001b[0m \u001b[0mlist\u001b[0m\u001b[0;34m(\u001b[0m\u001b[0mstr\u001b[0m\u001b[0;34m(\u001b[0m\u001b[0mint\u001b[0m\u001b[0;34m,\u001b[0m \u001b[0minput\u001b[0m\u001b[0;34m(\u001b[0m\u001b[0;34m\"Enter a list of numbers: \"\u001b[0m\u001b[0;34m)\u001b[0m\u001b[0;34m)\u001b[0m\u001b[0;34m)\u001b[0m\u001b[0;34m\u001b[0m\u001b[0;34m\u001b[0m\u001b[0m\n\u001b[0m\u001b[1;32m      2\u001b[0m \u001b[0;32mif\u001b[0m \u001b[0many\u001b[0m\u001b[0;34m(\u001b[0m\u001b[0mnum\u001b[0m \u001b[0;34m<\u001b[0m \u001b[0;36m0\u001b[0m \u001b[0;32mfor\u001b[0m \u001b[0mnum\u001b[0m \u001b[0;32min\u001b[0m \u001b[0mnum\u001b[0m\u001b[0;34m)\u001b[0m\u001b[0;34m:\u001b[0m\u001b[0;34m\u001b[0m\u001b[0;34m\u001b[0m\u001b[0m\n\u001b[1;32m      3\u001b[0m     \u001b[0mprint\u001b[0m\u001b[0;34m(\u001b[0m\u001b[0;34m\"List contains negative numbers\"\u001b[0m\u001b[0;34m)\u001b[0m\u001b[0;34m\u001b[0m\u001b[0;34m\u001b[0m\u001b[0m\n",
            "\u001b[0;31mTypeError\u001b[0m: 'str' object is not callable"
          ]
        }
      ]
    },
    {
      "cell_type": "markdown",
      "source": [
        "###Question 10: Write a Python program that checks if a given word is a palindrome. If it is, print \"Palindrome\".\n",
        "\n"
      ],
      "metadata": {
        "id": "gT1LpzhGkXfb"
      }
    },
    {
      "cell_type": "code",
      "source": [
        "str=input(\"Enter a string: \")\n",
        "if str == str[::-1]:\n",
        "  print(\"Palindrome\")"
      ],
      "metadata": {
        "colab": {
          "base_uri": "https://localhost:8080/"
        },
        "id": "yy_pZQ4-keoC",
        "outputId": "467ba63d-2b6e-42ec-e770-d2e32e3d68db"
      },
      "execution_count": null,
      "outputs": [
        {
          "output_type": "stream",
          "name": "stdout",
          "text": [
            "Enter a string: nitin\n",
            "Palindrome\n"
          ]
        }
      ]
    },
    {
      "cell_type": "markdown",
      "source": [
        "IF-ELSE"
      ],
      "metadata": {
        "id": "Egrc3jK62buh"
      }
    },
    {
      "cell_type": "markdown",
      "source": [
        "###Question 1: Write a Python program that checks if a given number is positive. If it is, print \"Positive number\"; otherwise, print \"Negative number\".\n"
      ],
      "metadata": {
        "id": "IxhjA0Y3vtcy"
      }
    },
    {
      "cell_type": "code",
      "source": [
        "num=int(input(\"Enter a num: \")) # take input from user\n",
        "if num >0:\n",
        "  print(\"Positive number\")\n",
        "else:\n",
        "  print(\"Negative number\")"
      ],
      "metadata": {
        "colab": {
          "base_uri": "https://localhost:8080/"
        },
        "id": "AbRnk5NVv0SL",
        "outputId": "8a5d55b4-e8c7-437c-bd54-2423f5794f99"
      },
      "execution_count": null,
      "outputs": [
        {
          "output_type": "stream",
          "name": "stdout",
          "text": [
            "Enter a num: -33\n",
            "Negative number\n"
          ]
        }
      ]
    },
    {
      "cell_type": "markdown",
      "source": [
        "###Question 2: Write a Python program that checks if a given string is empty. If it is, print \"Empty string\"; otherwise, print \"Non-empty string\".\n"
      ],
      "metadata": {
        "id": "da2gR46Gv0lJ"
      }
    },
    {
      "cell_type": "code",
      "source": [
        "str=input(\"Enter a String: \") # take input from user\n",
        "if str == \"\":\n",
        " print(\"Empty string\")\n",
        "else:\n",
        "  print(\"Non-empty string\")"
      ],
      "metadata": {
        "colab": {
          "base_uri": "https://localhost:8080/"
        },
        "id": "2uhmne-Qv3yl",
        "outputId": "9528efb4-79bd-41f3-b74c-c52ccb38deeb"
      },
      "execution_count": null,
      "outputs": [
        {
          "output_type": "stream",
          "name": "stdout",
          "text": [
            "Enter a String: sakshi\n",
            "Non-empty string\n"
          ]
        }
      ]
    },
    {
      "cell_type": "markdown",
      "source": [
        "###Question 3: Write a Python program that checks if a given number is even. If it is, print \"Even number\"; otherwise, print \"Odd number\".\n"
      ],
      "metadata": {
        "id": "uTlNpwtCv4Ac"
      }
    },
    {
      "cell_type": "code",
      "source": [
        "num=int(input(\"Enter a num: \"))\n",
        "if num % 2 ==0:\n",
        "  print(\"Even number\")\n",
        "else:\n",
        "  print(\"Odd number\")"
      ],
      "metadata": {
        "colab": {
          "base_uri": "https://localhost:8080/"
        },
        "id": "KXGn6FFzv7oL",
        "outputId": "1071304b-6ddf-4034-f454-03d11c2f640e"
      },
      "execution_count": null,
      "outputs": [
        {
          "output_type": "stream",
          "name": "stdout",
          "text": [
            "Enter a num: 22\n",
            "Even number\n"
          ]
        }
      ]
    },
    {
      "cell_type": "markdown",
      "source": [
        "###Question 4: Write a Python program that checks if a given character is a vowel. If it is, print \"Vowel\"; otherwise, print \"Consonant\".\n"
      ],
      "metadata": {
        "id": "0Tommja0v71_"
      }
    },
    {
      "cell_type": "code",
      "source": [
        "char=input(\"Enter a character: \")\n",
        "if char in 'aeiou':\n",
        "  print(\"Vowel\")\n",
        "else:\n",
        "  print(\"Consonant\")"
      ],
      "metadata": {
        "colab": {
          "base_uri": "https://localhost:8080/"
        },
        "id": "vJnuAvGPv-us",
        "outputId": "4b329d5d-0286-4ef8-bb86-1b157bf5a827"
      },
      "execution_count": null,
      "outputs": [
        {
          "output_type": "stream",
          "name": "stdout",
          "text": [
            "Enter a character: sakshi\n",
            "Consonant\n"
          ]
        }
      ]
    },
    {
      "cell_type": "markdown",
      "source": [
        "###Question 5: Write a Python program that checks if a given year is a leap year. If it is, print \"Leap year\"; otherwise, print \"Not a leap year\".\n"
      ],
      "metadata": {
        "id": "NHQ4LmPbwB8D"
      }
    },
    {
      "cell_type": "code",
      "source": [
        "Year=int(input(\"Enter a Year: \"))\n",
        "if Year % 4 ==0:\n",
        "  print(\"Its a leap year\")\n",
        "else:\n",
        "  print(\"Not a leap year\")"
      ],
      "metadata": {
        "colab": {
          "base_uri": "https://localhost:8080/"
        },
        "id": "CTE3pVMJwDJ2",
        "outputId": "8b42c545-adf0-442d-a69d-78974ddaeeb9"
      },
      "execution_count": null,
      "outputs": [
        {
          "output_type": "stream",
          "name": "stdout",
          "text": [
            "Enter a Year: 2023\n",
            "Not a leap year\n"
          ]
        }
      ]
    },
    {
      "cell_type": "markdown",
      "source": [
        "###Question 6: Write a Python program that checks if a given number is divisible by 3. If it is, print \"Divisible by 3\"; otherwise, print \"Not divisible by 3\".\n"
      ],
      "metadata": {
        "id": "F3YCAV1MwGyd"
      }
    },
    {
      "cell_type": "code",
      "source": [
        "num=float(input(\"Enter a num: \"))\n",
        "if num % 3 == 0:\n",
        "  print(\"Divisible by 3\")\n",
        "else:\n",
        "  print(\"Not divisible by 3\")"
      ],
      "metadata": {
        "colab": {
          "base_uri": "https://localhost:8080/"
        },
        "id": "NGJQEZhewL90",
        "outputId": "d1f263ff-9180-4ca6-f4ce-392431a3227f"
      },
      "execution_count": null,
      "outputs": [
        {
          "output_type": "stream",
          "name": "stdout",
          "text": [
            "Enter a num: 34\n",
            "Not divisible by 3\n"
          ]
        }
      ]
    },
    {
      "cell_type": "markdown",
      "source": [
        "###Question 7: Write a Python program that checks if a given string is a palindrome. If it is, print \"Palindrome\"; otherwise, print \"Not a palindrome\".\n"
      ],
      "metadata": {
        "id": "ktRE7rjwwMh0"
      }
    },
    {
      "cell_type": "code",
      "source": [
        "str=input(\"Enter a string: \")\n",
        "if str == str[::-1]:\n",
        "  print(\"Palindrome\")\n",
        "else:\n",
        "  print(\"Not Palindrome\")"
      ],
      "metadata": {
        "colab": {
          "base_uri": "https://localhost:8080/"
        },
        "id": "u_yv4Hr0wQdy",
        "outputId": "7a5470fe-57b5-432c-ae5a-adb4bc77e6aa"
      },
      "execution_count": null,
      "outputs": [
        {
          "output_type": "stream",
          "name": "stdout",
          "text": [
            "Enter a string: sakshi\n",
            "Not Palindrome\n"
          ]
        }
      ]
    },
    {
      "cell_type": "markdown",
      "source": [
        "###Question 8: Write a Python program that checks if a given list is empty. If it is, print \"Empty list\"; otherwise, print \"Non-empty list\".\n"
      ],
      "metadata": {
        "id": "YnCqFoT7wS32"
      }
    },
    {
      "cell_type": "code",
      "source": [
        "list=input(\"Enter a list: \")\n",
        "if list == \"\":\n",
        " print(\"Empty list\")\n",
        "else:\n",
        "  print(\"Non-empty list\")"
      ],
      "metadata": {
        "colab": {
          "base_uri": "https://localhost:8080/"
        },
        "id": "mGzTVoIwwUc0",
        "outputId": "439efe9b-0485-4084-aae1-68a44855923e"
      },
      "execution_count": null,
      "outputs": [
        {
          "output_type": "stream",
          "name": "stdout",
          "text": [
            "Enter a list: \n",
            "Empty list\n"
          ]
        }
      ]
    },
    {
      "cell_type": "markdown",
      "source": [
        "###Question 9: Write a Python program that checks if a given number is greater than, less than, or equal to 50. Print the corresponding message.\n"
      ],
      "metadata": {
        "id": "Bhbo1VDzwXRY"
      }
    },
    {
      "cell_type": "code",
      "source": [
        "num=int(input(\"Enter a num: \"))\n",
        "if num>50:\n",
        "  print(\"Num is greater than 50\")\n",
        "if num<50:\n",
        "  print(\"Num is less than 50\")\n",
        "elif num == 50:\n",
        "  print(\"Num is Equal to 50\")\n"
      ],
      "metadata": {
        "colab": {
          "base_uri": "https://localhost:8080/"
        },
        "id": "Q_b4jjKpwYfK",
        "outputId": "6628177b-a200-47a8-900e-a946e379274b"
      },
      "execution_count": null,
      "outputs": [
        {
          "output_type": "stream",
          "name": "stdout",
          "text": [
            "Enter a num: 50\n",
            "Num is Equal to 50\n"
          ]
        }
      ]
    },
    {
      "cell_type": "markdown",
      "source": [
        "###Question 10: Write a Python program that checks if a given character is an uppercase letter. If it is, print \"Uppercase\"; otherwise, print \"Lowercase\".\n"
      ],
      "metadata": {
        "id": "kUgnFBdRwZGN"
      }
    },
    {
      "cell_type": "code",
      "source": [
        "char=input(\"Enter a char: \")\n",
        "if char.isupper():\n",
        "  print(\"Uppercase\")\n",
        "else:\n",
        "  print(\"Lowercase\")"
      ],
      "metadata": {
        "colab": {
          "base_uri": "https://localhost:8080/"
        },
        "id": "-kWfbQZ9wd_p",
        "outputId": "2b1f18eb-35d6-4978-c0a6-7fafce461a7e"
      },
      "execution_count": null,
      "outputs": [
        {
          "output_type": "stream",
          "name": "stdout",
          "text": [
            "Enter a char: SAKSHI\n",
            "Uppercase\n"
          ]
        }
      ]
    },
    {
      "cell_type": "markdown",
      "source": [
        "IF=ELIF-ELSE"
      ],
      "metadata": {
        "id": "91T1HNUD2jw8"
      }
    },
    {
      "cell_type": "markdown",
      "source": [
        "###Question 1: Write a Python program that checks if a given number is positive, negative, or zero. Print the corresponding message.\n"
      ],
      "metadata": {
        "id": "nnSze0RN2qi_"
      }
    },
    {
      "cell_type": "code",
      "source": [
        "num=int(input(\"Enter a num: \"))\n",
        "if num >0:\n",
        "  print(\"Positive number\")\n",
        "elif num == 0:\n",
        "  print(\"Its a Zero\")\n",
        "else:\n",
        "  print(\"Negative number\")"
      ],
      "metadata": {
        "colab": {
          "base_uri": "https://localhost:8080/"
        },
        "id": "4KqOs7QTXOkf",
        "outputId": "50015bd3-3807-4ece-bf7f-d67567f25ba5"
      },
      "execution_count": null,
      "outputs": [
        {
          "output_type": "stream",
          "name": "stdout",
          "text": [
            "Enter a num: 0\n",
            "Its a Zero\n"
          ]
        }
      ]
    },
    {
      "cell_type": "markdown",
      "source": [
        "###Question 2: Write a Python program that compares two numbers and prints the larger number.\n"
      ],
      "metadata": {
        "id": "sW7DJzhyXSUc"
      }
    },
    {
      "cell_type": "code",
      "source": [
        "num1=int(input(\"Enter 1st num = \"))\n",
        "num2=int(input(\"Enter 2nd num = \"))\n",
        "if num1>num2:\n",
        "  print(num1, 'is larger ')\n",
        "else:\n",
        "  print(num2, \"is larger\")"
      ],
      "metadata": {
        "colab": {
          "base_uri": "https://localhost:8080/"
        },
        "id": "3DuYvFa-XWab",
        "outputId": "8bbb4231-f9f0-4d4c-d921-3bcbf6b5aecb"
      },
      "execution_count": null,
      "outputs": [
        {
          "output_type": "stream",
          "name": "stdout",
          "text": [
            "Enter 1st num = 34\n",
            "Enter 2nd num = 76\n",
            "76 is larger\n"
          ]
        }
      ]
    },
    {
      "cell_type": "markdown",
      "source": [],
      "metadata": {
        "id": "G5nZYKEbXW6f"
      }
    },
    {
      "cell_type": "markdown",
      "source": [
        "###Question 3: Write a Python program that determines whether a given temperature is hot, warm, or cold. Print the corresponding message.\n"
      ],
      "metadata": {
        "id": "xTHYIgz1XaxI"
      }
    },
    {
      "cell_type": "code",
      "source": [],
      "metadata": {
        "id": "EoEHjJa7XeU0"
      },
      "execution_count": null,
      "outputs": []
    },
    {
      "cell_type": "markdown",
      "source": [
        "###Question 4: Write a Python program that checks if a given year is a leap year, a century year, or neither. Print the corresponding message.\n"
      ],
      "metadata": {
        "id": "oTAj2KFdXem6"
      }
    },
    {
      "cell_type": "code",
      "source": [
        "Year=int(input(\"Enter a Year: \"))\n",
        "if Year % 400 ==0:\n",
        "  print(\"Its a leap year\")\n",
        "elif Year % 100 ==0:\n",
        "  print(\"Its a century year\")\n",
        "elif Year % 4 ==0:\n",
        "  print(\"Its a leap year\")\n",
        "else:\n",
        "  print(\"Not a leap year\")"
      ],
      "metadata": {
        "colab": {
          "base_uri": "https://localhost:8080/"
        },
        "id": "59kDrXEEXh80",
        "outputId": "10e84030-e13e-4c5c-ecf4-f28c32db3d18"
      },
      "execution_count": null,
      "outputs": [
        {
          "output_type": "stream",
          "name": "stdout",
          "text": [
            "Enter a Year: 1998\n",
            "Not a leap year\n"
          ]
        }
      ]
    },
    {
      "cell_type": "markdown",
      "source": [
        "###Question 5: Write a Python program that categorizes a given character into uppercase letter, lowercase letter, digit, or special character. Print the corresponding message.\n"
      ],
      "metadata": {
        "id": "ybKFfadhXiIi"
      }
    },
    {
      "cell_type": "code",
      "source": [
        "char=input(\"Enter a char: \")\n",
        "if char.isupper():\n",
        "  print(\"Uppercase\")\n",
        "elif char.isdigit():\n",
        "  print(\"Digit\")\n",
        "else:\n",
        "  print(\"Lowercase\")"
      ],
      "metadata": {
        "colab": {
          "base_uri": "https://localhost:8080/"
        },
        "id": "q-GK_Kr0Xl08",
        "outputId": "45bcd78a-e521-4f4b-bad3-4f50c8ef14dc"
      },
      "execution_count": null,
      "outputs": [
        {
          "output_type": "stream",
          "name": "stdout",
          "text": [
            "Enter a char: 45\n",
            "Digit\n"
          ]
        }
      ]
    },
    {
      "cell_type": "markdown",
      "source": [
        "###Question 6: Write a Python program that calculates the discount percentage based on the purchase amount. Print the corresponding discount percentage.\n"
      ],
      "metadata": {
        "id": "EH9Xes0IXn4V"
      }
    },
    {
      "cell_type": "code",
      "source": [],
      "metadata": {
        "id": "MBgoLulIXo6y"
      },
      "execution_count": null,
      "outputs": []
    },
    {
      "cell_type": "markdown",
      "source": [
        "###Question 7: Write a Python program that checks if a given number is divisible by 2, 3, 5, or none of them. Print the corresponding message.\n"
      ],
      "metadata": {
        "id": "V2C1uCNJXpOJ"
      }
    },
    {
      "cell_type": "code",
      "source": [
        "num=float(input(\"Enter a num: \"))\n",
        "if num % 2 == 0:\n",
        "  print(\"Divisible by 2\")\n",
        "elif num % 3 == 0:\n",
        "  print(\"Divisible by 3\")\n",
        "elif num % 5 ==0:\n",
        "  print(\"Divisible by 5\")\n",
        "else:\n",
        "  print(\"None of them\")"
      ],
      "metadata": {
        "id": "V4rN38EoYFRK"
      },
      "execution_count": null,
      "outputs": []
    },
    {
      "cell_type": "markdown",
      "source": [
        "###Question 8: Write a Python program that determines the grade based on the percentage obtained. Print the corresponding grade.\n"
      ],
      "metadata": {
        "id": "r_ODj3lZYFdB"
      }
    },
    {
      "cell_type": "code",
      "source": [
        "per=int(input(\"Enter the percentage: \"))\n",
        "if per >=90 and per <=100:\n",
        "  print(\"Grade A+\")\n",
        "elif per >=80 and per < 90:\n",
        "  print(\"Grade B\")\n",
        "else:\n",
        "  print(\"Grade C\")"
      ],
      "metadata": {
        "id": "kxmBPj42YIfp",
        "colab": {
          "base_uri": "https://localhost:8080/"
        },
        "outputId": "5f81ab20-bea2-4b7e-e22b-1f8e162271bf"
      },
      "execution_count": null,
      "outputs": [
        {
          "output_type": "stream",
          "name": "stdout",
          "text": [
            "Enter the percentage: 87\n",
            "Grade B\n"
          ]
        }
      ]
    },
    {
      "cell_type": "markdown",
      "source": [
        "###Question 9: Write a Python program that checks if a given number is within a specific range. Print the corresponding message.\n"
      ],
      "metadata": {
        "id": "qhnmh0hUYIrj"
      }
    },
    {
      "cell_type": "code",
      "source": [],
      "metadata": {
        "id": "YbWkPB9RYN6c"
      },
      "execution_count": null,
      "outputs": []
    },
    {
      "cell_type": "markdown",
      "source": [
        "###Question 10: Write a Python program that checks if a given string is an English word, a number, or a combination of both. Print the corresponding message."
      ],
      "metadata": {
        "id": "7QIWWJ21YOcW"
      }
    },
    {
      "cell_type": "code",
      "source": [],
      "metadata": {
        "id": "WZ0nNbSQYQ_5"
      },
      "execution_count": null,
      "outputs": []
    }
  ]
}