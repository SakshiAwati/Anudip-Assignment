{
  "nbformat": 4,
  "nbformat_minor": 0,
  "metadata": {
    "colab": {
      "provenance": []
    },
    "kernelspec": {
      "name": "python3",
      "display_name": "Python 3"
    },
    "language_info": {
      "name": "python"
    }
  },
  "cells": [
    {
      "cell_type": "markdown",
      "source": [
        "###Question 1: Create a NumPy array with 5 elements initialized with zeros.\n"
      ],
      "metadata": {
        "id": "udSpk2Md5WOm"
      }
    },
    {
      "cell_type": "code",
      "execution_count": null,
      "metadata": {
        "colab": {
          "base_uri": "https://localhost:8080/"
        },
        "id": "suY8OQae5Ve0",
        "outputId": "ecd0765b-c722-44f7-c09f-4d74508c6d0c"
      },
      "outputs": [
        {
          "output_type": "stream",
          "name": "stdout",
          "text": [
            "[0. 0. 0. 0. 0.]\n"
          ]
        }
      ],
      "source": [
        "import numpy as np\n",
        "array = np.zeros(5)\n",
        "print(array)"
      ]
    },
    {
      "cell_type": "markdown",
      "source": [
        "###Question 2: Create a NumPy array with 3 rows and 4 columns initialized with ones.\n"
      ],
      "metadata": {
        "id": "Q8U7YigC5_P4"
      }
    },
    {
      "cell_type": "code",
      "source": [
        "import numpy as np\n",
        "array = np.ones((3, 4))\n",
        "print(array)"
      ],
      "metadata": {
        "colab": {
          "base_uri": "https://localhost:8080/"
        },
        "id": "gnuuCHK-6Ct5",
        "outputId": "83319ecb-422f-474f-fe05-072565d0347b"
      },
      "execution_count": null,
      "outputs": [
        {
          "output_type": "stream",
          "name": "stdout",
          "text": [
            "[[1. 1. 1. 1.]\n",
            " [1. 1. 1. 1.]\n",
            " [1. 1. 1. 1.]]\n"
          ]
        }
      ]
    },
    {
      "cell_type": "markdown",
      "source": [
        "###Question 3: Create a 1D NumPy array containing numbers from 1 to 10.\n"
      ],
      "metadata": {
        "id": "0PA25VPW7Cic"
      }
    },
    {
      "cell_type": "code",
      "source": [
        "import numpy as np\n",
        "array = np.arange(1, 11)\n",
        "print(array)"
      ],
      "metadata": {
        "colab": {
          "base_uri": "https://localhost:8080/"
        },
        "id": "bFZtH3q07F5B",
        "outputId": "ef08dc37-4fad-4e51-9ed8-b53b77d66323"
      },
      "execution_count": null,
      "outputs": [
        {
          "output_type": "stream",
          "name": "stdout",
          "text": [
            "[ 1  2  3  4  5  6  7  8  9 10]\n"
          ]
        }
      ]
    },
    {
      "cell_type": "markdown",
      "source": [
        "###Question 4: Create a 2D NumPy array with dimensions 3x3 containing numbers from 1 to 9.\n"
      ],
      "metadata": {
        "id": "QyHzwDvT78VY"
      }
    },
    {
      "cell_type": "code",
      "source": [
        "import numpy as np\n",
        "array = np.arange(1, 10).reshape(3, 3)\n",
        "print(array)"
      ],
      "metadata": {
        "colab": {
          "base_uri": "https://localhost:8080/"
        },
        "id": "Ya8Q57D77_o9",
        "outputId": "d760aff6-e1c2-4f92-e46f-d84c278a411b"
      },
      "execution_count": null,
      "outputs": [
        {
          "output_type": "stream",
          "name": "stdout",
          "text": [
            "[[1 2 3]\n",
            " [4 5 6]\n",
            " [7 8 9]]\n"
          ]
        }
      ]
    },
    {
      "cell_type": "markdown",
      "source": [
        "###Question 5: Create a 3D NumPy array with dimensions 2x3x4 containing random integers between 0 and 9.\n"
      ],
      "metadata": {
        "id": "SaPf_C6C8gpi"
      }
    },
    {
      "cell_type": "code",
      "source": [
        "import numpy as np\n",
        "array = np.random.randint(0, 10, size=(2, 3, 4))\n",
        "print(array)"
      ],
      "metadata": {
        "colab": {
          "base_uri": "https://localhost:8080/"
        },
        "id": "Rt2nCna58xXF",
        "outputId": "851ff37a-a922-4664-fd7b-1f7f6e69b702"
      },
      "execution_count": null,
      "outputs": [
        {
          "output_type": "stream",
          "name": "stdout",
          "text": [
            "[[[9 0 9 6]\n",
            "  [4 2 7 9]\n",
            "  [7 3 2 5]]\n",
            "\n",
            " [[2 8 5 9]\n",
            "  [7 7 2 3]\n",
            "  [3 0 4 2]]]\n"
          ]
        }
      ]
    },
    {
      "cell_type": "markdown",
      "source": [
        "###Question 6: Create a NumPy array from a list containing elements [1, 2, 3, 4, 5].\n"
      ],
      "metadata": {
        "id": "q_8hm8DK9q4F"
      }
    },
    {
      "cell_type": "code",
      "source": [
        "import numpy as np\n",
        "array = np.arange(1, 6)\n",
        "print(array)"
      ],
      "metadata": {
        "colab": {
          "base_uri": "https://localhost:8080/"
        },
        "id": "1LXYfjC89vap",
        "outputId": "8f2fabca-a0f0-4145-f139-509d308eb2e5"
      },
      "execution_count": null,
      "outputs": [
        {
          "output_type": "stream",
          "name": "stdout",
          "text": [
            "[1 2 3 4 5]\n"
          ]
        }
      ]
    },
    {
      "cell_type": "markdown",
      "source": [
        "\n",
        "Question 7: Convert a tuple (6, 7, 8, 9, 10) into a NumPy array.\n"
      ],
      "metadata": {
        "id": "fromhRaB-JzE"
      }
    },
    {
      "cell_type": "code",
      "source": [
        "import numpy as np\n",
        "tuple = (6,7,8,9,10)\n",
        "array = np.array(tuple)\n",
        "print(array)"
      ],
      "metadata": {
        "colab": {
          "base_uri": "https://localhost:8080/"
        },
        "id": "mD1WgbX1-Czt",
        "outputId": "bba09981-d29b-49b2-d0c1-9a441622e1ce"
      },
      "execution_count": null,
      "outputs": [
        {
          "output_type": "stream",
          "name": "stdout",
          "text": [
            "[ 6  7  8  9 10]\n"
          ]
        }
      ]
    },
    {
      "cell_type": "markdown",
      "source": [
        "###Question 8: Create a NumPy array with shape (4, 2) containing numbers from 0 to 7.\n"
      ],
      "metadata": {
        "id": "oikphxak-z6v"
      }
    },
    {
      "cell_type": "code",
      "source": [
        "import numpy as np\n",
        "array = np.arange(0, 8).reshape(4, 2)\n",
        "print(array)"
      ],
      "metadata": {
        "colab": {
          "base_uri": "https://localhost:8080/"
        },
        "id": "E6iSenJj-3ww",
        "outputId": "e3cef83a-5dec-47bd-f4f7-2085e8ac037d"
      },
      "execution_count": null,
      "outputs": [
        {
          "output_type": "stream",
          "name": "stdout",
          "text": [
            "[[0 1]\n",
            " [2 3]\n",
            " [4 5]\n",
            " [6 7]]\n"
          ]
        }
      ]
    },
    {
      "cell_type": "markdown",
      "source": [
        "###Question 9: Create a 3D NumPy array with shape (2, 3, 4) initialized with zeros.\n"
      ],
      "metadata": {
        "id": "Z5g0qJgf_LrA"
      }
    },
    {
      "cell_type": "code",
      "source": [
        "import numpy as np\n",
        "array = np.zeros((2, 3, 4))\n",
        "print(array)"
      ],
      "metadata": {
        "colab": {
          "base_uri": "https://localhost:8080/"
        },
        "id": "1Sr7T_Lk_O0Y",
        "outputId": "6fb25351-447d-41cb-8922-cde4ec71f570"
      },
      "execution_count": null,
      "outputs": [
        {
          "output_type": "stream",
          "name": "stdout",
          "text": [
            "[[[0. 0. 0. 0.]\n",
            "  [0. 0. 0. 0.]\n",
            "  [0. 0. 0. 0.]]\n",
            "\n",
            " [[0. 0. 0. 0.]\n",
            "  [0. 0. 0. 0.]\n",
            "  [0. 0. 0. 0.]]]\n"
          ]
        }
      ]
    },
    {
      "cell_type": "markdown",
      "source": [
        "###Question 10: Create a 2D NumPy array with shape (3, 3) containing random floating-point numbers between 0 and 1.\n"
      ],
      "metadata": {
        "id": "LX_udsFkASYg"
      }
    },
    {
      "cell_type": "code",
      "source": [
        "import numpy as np\n",
        "array = np.random.rand(3, 3)\n",
        "print(array)"
      ],
      "metadata": {
        "colab": {
          "base_uri": "https://localhost:8080/"
        },
        "id": "GkhW8uC8AVdC",
        "outputId": "3b416661-a098-4c12-da60-b7a53559956a"
      },
      "execution_count": null,
      "outputs": [
        {
          "output_type": "stream",
          "name": "stdout",
          "text": [
            "[[0.64721994 0.7854389  0.17534735]\n",
            " [0.46668319 0.55753661 0.48987333]\n",
            " [0.00794113 0.20515138 0.27258359]]\n"
          ]
        }
      ]
    },
    {
      "cell_type": "markdown",
      "source": [
        "###Question 11: Create a NumPy array with shape (5,) containing numbers from 10 to 50, incrementing by 5.\n"
      ],
      "metadata": {
        "id": "O-lUtiEq0Kuv"
      }
    },
    {
      "cell_type": "code",
      "source": [
        "import numpy as np\n",
        "array = np.arange(10, 51, 5)\n",
        "print(array)"
      ],
      "metadata": {
        "colab": {
          "base_uri": "https://localhost:8080/"
        },
        "id": "3dpgFUkj0T04",
        "outputId": "f621db28-64a0-4b24-f5ca-fc755fa67312"
      },
      "execution_count": null,
      "outputs": [
        {
          "output_type": "stream",
          "name": "stdout",
          "text": [
            "[10 15 20 25 30 35 40 45 50]\n"
          ]
        }
      ]
    },
    {
      "cell_type": "markdown",
      "source": [
        "\n",
        "###Question 12: Create a NumPy array with shape (2, 5) containing numbers from -2 to 7.\n",
        "\n"
      ],
      "metadata": {
        "id": "jfLp4xsi1pTt"
      }
    },
    {
      "cell_type": "code",
      "source": [
        "import numpy as np\n",
        "array = np.arange(-2, 8).reshape(2, 5)\n",
        "print(array)"
      ],
      "metadata": {
        "colab": {
          "base_uri": "https://localhost:8080/"
        },
        "id": "XRp5ANiF15P6",
        "outputId": "af2db1d1-3a32-4d73-bfcc-b3855b0499f9"
      },
      "execution_count": null,
      "outputs": [
        {
          "output_type": "stream",
          "name": "stdout",
          "text": [
            "[[-2 -1  0  1  2]\n",
            " [ 3  4  5  6  7]]\n"
          ]
        }
      ]
    },
    {
      "cell_type": "markdown",
      "source": [
        "###Question 13: Create a 1D NumPy array with shape (10,) containing numbers from 100 to 109, and change its data type to float.\n",
        "\n"
      ],
      "metadata": {
        "id": "hBv5icxv2MqA"
      }
    },
    {
      "cell_type": "code",
      "source": [
        "import numpy as np\n",
        "array = np.arange(100, 110)\n",
        "float_array = array.astype(float)\n",
        "print(float_array)"
      ],
      "metadata": {
        "colab": {
          "base_uri": "https://localhost:8080/"
        },
        "id": "eSlhR2Wr2ShE",
        "outputId": "8275b9b3-2c15-459e-cc06-e1654f37338b"
      },
      "execution_count": null,
      "outputs": [
        {
          "output_type": "stream",
          "name": "stdout",
          "text": [
            "[100. 101. 102. 103. 104. 105. 106. 107. 108. 109.]\n"
          ]
        }
      ]
    },
    {
      "cell_type": "markdown",
      "source": [
        "###Question 14: Create a 2D NumPy array with shape (3, 4) initialized with ones, and then change its data type to int.\n"
      ],
      "metadata": {
        "id": "-WPpEgQ5300j"
      }
    },
    {
      "cell_type": "code",
      "source": [
        "import numpy as np\n",
        "array = np.ones((3, 4))\n",
        "int_array = array.astype(int)\n",
        "print(int_array)"
      ],
      "metadata": {
        "colab": {
          "base_uri": "https://localhost:8080/"
        },
        "id": "jqzLf69F3348",
        "outputId": "69dffe3a-98c5-469f-813a-e96cd2baa272"
      },
      "execution_count": null,
      "outputs": [
        {
          "output_type": "stream",
          "name": "stdout",
          "text": [
            "[[1 1 1 1]\n",
            " [1 1 1 1]\n",
            " [1 1 1 1]]\n"
          ]
        }
      ]
    },
    {
      "cell_type": "markdown",
      "source": [
        "###Question 15: Create a 3D NumPy array with shape (2, 2, 3) initialized with specified numbers [[1, 2, 3], [4, 5, 6]], and [[7, 8, 9], [10, 11, 12]]."
      ],
      "metadata": {
        "id": "4oMz8_MR4YSn"
      }
    },
    {
      "cell_type": "code",
      "source": [
        "import numpy as np\n",
        "array = np.array([[[1,2,3],[4,5,6]], [[7,8,9],[10,11,12]]])\n",
        "print(array)"
      ],
      "metadata": {
        "colab": {
          "base_uri": "https://localhost:8080/"
        },
        "id": "IOzSAim_4d8u",
        "outputId": "7d2a5a69-e4bf-4026-c61b-4b516ae65cff"
      },
      "execution_count": null,
      "outputs": [
        {
          "output_type": "stream",
          "name": "stdout",
          "text": [
            "[[[ 1  2  3]\n",
            "  [ 4  5  6]]\n",
            "\n",
            " [[ 7  8  9]\n",
            "  [10 11 12]]]\n"
          ]
        }
      ]
    }
  ]
}